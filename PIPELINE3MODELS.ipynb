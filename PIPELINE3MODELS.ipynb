{
 "cells": [
  {
   "cell_type": "markdown",
   "metadata": {},
   "source": [
    "### Model Prep"
   ]
  },
  {
   "cell_type": "markdown",
   "metadata": {},
   "source": [
    " \n",
    "#### Full Pipeline and Model Deployment Summary:\n",
    "* We created 7 models with accuracies ranging from ~85-90%, the highest being from the Random Forest.\n",
    "  - Decision Tree\n",
    "  - Random Forest\n",
    "  - SVM\n",
    "  - XGBoost\n",
    "  - Naive Bayes\n",
    "  - KNN\n",
    "  - Logistic Regression\n",
    "* Features we used for the models:\n",
    "  - age\n",
    "  - balance\n",
    "  - day \n",
    "  - duration \n",
    "  - pdays\n",
    "  - housing\n",
    "  - month\n",
    "  - poutcome\n",
    "  - contact\n",
    "  - marital\n",
    "  - default\n",
    "  - job\n",
    "  - education\n",
    "\n",
    "Based on the random forest, duration seems to be the strongest predictor for whether a customer will subscribe or not with a feature importance score of ~34%. This could be due to the fact that customers who are willing to stay longer on the phone with a bank representative have a higher chance of being persuaded to subscribe to a bank deposit."
   ]
  },
  {
   "cell_type": "code",
   "execution_count": 1,
   "metadata": {},
   "outputs": [],
   "source": [
    "# import packages\n",
    "import numpy as np\n",
    "import pandas as pd\n",
    "import matplotlib.pyplot as plt\n",
    "import joblib\n",
    "import seaborn as sns\n",
    "plt.style.use('seaborn')  # change the default style"
   ]
  },
  {
   "cell_type": "code",
   "execution_count": 2,
   "metadata": {},
   "outputs": [],
   "source": [
    "# read csv data into pandas dataframe\n",
    "df = pd.read_csv('projectdataset-1.csv')"
   ]
  },
  {
   "cell_type": "code",
   "execution_count": 3,
   "metadata": {
    "scrolled": true
   },
   "outputs": [
    {
     "name": "stdout",
     "output_type": "stream",
     "text": [
      "<class 'pandas.core.frame.DataFrame'>\n",
      "RangeIndex: 45211 entries, 0 to 45210\n",
      "Data columns (total 16 columns):\n",
      " #   Column     Non-Null Count  Dtype \n",
      "---  ------     --------------  ----- \n",
      " 0   age        45211 non-null  int64 \n",
      " 1   job        45211 non-null  object\n",
      " 2   marital    45211 non-null  object\n",
      " 3   education  45211 non-null  object\n",
      " 4   default    45211 non-null  object\n",
      " 5   balance    45211 non-null  int64 \n",
      " 6   housing    45211 non-null  object\n",
      " 7   loan       45211 non-null  object\n",
      " 8   contact    45211 non-null  object\n",
      " 9   day        45211 non-null  int64 \n",
      " 10  month      45211 non-null  object\n",
      " 11  duration   45211 non-null  int64 \n",
      " 12  campaign   45211 non-null  int64 \n",
      " 13  pdays      45211 non-null  int64 \n",
      " 14  previous   45211 non-null  int64 \n",
      " 15  poutcome   45211 non-null  object\n",
      "dtypes: int64(7), object(9)\n",
      "memory usage: 5.5+ MB\n"
     ]
    }
   ],
   "source": [
    "# Prepare the data by separating X and y\n",
    "# dropping Y variable\n",
    "\n",
    "# axis = 1 below means dropping by columns, 0 means by rows\n",
    "X = df.drop(['Class'], axis=1)\n",
    "y = df['Class']\n",
    "X.info()"
   ]
  },
  {
   "cell_type": "code",
   "execution_count": 4,
   "metadata": {},
   "outputs": [
    {
     "name": "stdout",
     "output_type": "stream",
     "text": [
      "(36168, 16)\n",
      "(9043, 16)\n",
      "(36168,)\n"
     ]
    }
   ],
   "source": [
    "# Split the data into a training set and a test set. \n",
    "# Any number for the random_state is fine, see 42: https://en.wikipedia.org/wiki/42_(number) \n",
    "# We choose to use 20% (test_size=0.2) of the data set as the test set.\n",
    "from sklearn.model_selection import train_test_split\n",
    "X_train, X_test, y_train, y_test = train_test_split(X, y, stratify=y,test_size=0.2, random_state=42)\n",
    "\n",
    "print(X_train.shape)\n",
    "print(X_test.shape)\n",
    "print(y_train.shape)\n",
    "\n",
    "##added stratify option above\n",
    "\n"
   ]
  },
  {
   "cell_type": "markdown",
   "metadata": {},
   "source": [
    "### Models"
   ]
  },
  {
   "cell_type": "code",
   "execution_count": 5,
   "metadata": {},
   "outputs": [],
   "source": [
    "# We will train our decision tree classifier with the following features:\n",
    "\n",
    "num_features = ['age', 'balance', 'day', 'duration', 'pdays' ]\n",
    "cat_features = ['housing','month','poutcome', 'contact']"
   ]
  },
  {
   "cell_type": "code",
   "execution_count": 6,
   "metadata": {},
   "outputs": [],
   "source": [
    "from sklearn.pipeline import Pipeline\n",
    "from sklearn.impute import SimpleImputer\n",
    "from sklearn.preprocessing import StandardScaler, OneHotEncoder\n",
    "\n",
    "# Create the preprocessing pipeline for numerical features\n",
    "# There are two steps in this pipeline\n",
    "# Pipeline(steps=[(name1, transform1), (name2, transform2), ...]) \n",
    "# NOTE the step names can be arbitrary\n",
    "\n",
    "# Step 1 is what we discussed before - filling the missing values if any using mean\n",
    "# Step 2 is feature scaling via standardization - making features look like normal-distributed \n",
    "# see sandardization: https://scikit-learn.org/stable/modules/generated/sklearn.preprocessing.StandardScaler.html)\n",
    "num_pipeline = Pipeline(\n",
    "    steps=[\n",
    "        ('num_imputer', SimpleImputer()),  # we will tune differet strategies later\n",
    "        ('scaler', StandardScaler()),\n",
    "        ]\n",
    ")\n",
    "\n",
    "# Create the preprocessing pipelines for the categorical features\n",
    "# There are two steps in this pipeline:\n",
    "# Step 1: filling the missing values if any using the most frequent value\n",
    "# Step 2: one hot encoding\n",
    "\n",
    "cat_pipeline = Pipeline(\n",
    "    steps=[\n",
    "        ('cat_imputer', SimpleImputer(strategy='most_frequent')),\n",
    "        ('onehot', OneHotEncoder(handle_unknown = 'ignore')),\n",
    "    ]\n",
    ")\n",
    "\n",
    "# Assign features to the pipelines and Combine two pipelines to form the preprocessor\n",
    "from sklearn.compose import ColumnTransformer\n",
    "\n",
    "preprocessor = ColumnTransformer(\n",
    "    transformers=[\n",
    "        ('num_pipeline', num_pipeline, num_features),\n",
    "        ('cat_pipeline', cat_pipeline, cat_features),\n",
    "    ]\n",
    ")"
   ]
  },
  {
   "cell_type": "code",
   "execution_count": 7,
   "metadata": {},
   "outputs": [],
   "source": [
    "# Specify the model to use, which is DecisionTreeClassifier\n",
    "# Make a full pipeline by combining preprocessor and the model\n",
    "from sklearn.tree import DecisionTreeClassifier\n",
    "\n",
    "pipeline_dt = Pipeline(\n",
    "    steps=[\n",
    "        ('preprocessor', preprocessor),\n",
    "        ('clf_dt', DecisionTreeClassifier()),\n",
    "    ]\n",
    ")"
   ]
  },
  {
   "cell_type": "code",
   "execution_count": 8,
   "metadata": {},
   "outputs": [],
   "source": [
    "# we show how to use GridSearch with K-fold cross validation (K=10) to fine tune the model\n",
    "# we use the accuracy as the scoring metric with training score return_train_score=True\n",
    "from sklearn.model_selection import GridSearchCV\n",
    "\n",
    "# set up the values of hyperparameters you want to evaluate\n",
    "# here you must use the step names as the prefix followed by two under_scores to sepecify the parameter names and the \"full path\" of the steps\n",
    "\n",
    "# we are trying 2 different impputer strategies \n",
    "# 2x5 different decision tree models with different parameters\n",
    "# in total we are trying 2x2x5 = 20 different combinations\n",
    "\n",
    "param_grid_dt = [\n",
    "    {\n",
    "        'preprocessor__num_pipeline__num_imputer__strategy': ['mean', 'median'],\n",
    "        'clf_dt__criterion': ['gini', 'entropy'], \n",
    "        'clf_dt__max_depth': [3, 4, 5, 6, 7],\n",
    "   \n",
    "    }\n",
    "]\n",
    "\n",
    "# set up the grid search \n",
    "grid_search_dt = GridSearchCV(pipeline_dt, param_grid_dt, cv=10, scoring='accuracy')"
   ]
  },
  {
   "cell_type": "code",
   "execution_count": 9,
   "metadata": {},
   "outputs": [
    {
     "data": {
      "text/plain": [
       "GridSearchCV(cv=10,\n",
       "             estimator=Pipeline(steps=[('preprocessor',\n",
       "                                        ColumnTransformer(transformers=[('num_pipeline',\n",
       "                                                                         Pipeline(steps=[('num_imputer',\n",
       "                                                                                          SimpleImputer()),\n",
       "                                                                                         ('scaler',\n",
       "                                                                                          StandardScaler())]),\n",
       "                                                                         ['age',\n",
       "                                                                          'balance',\n",
       "                                                                          'day',\n",
       "                                                                          'duration',\n",
       "                                                                          'pdays']),\n",
       "                                                                        ('cat_pipeline',\n",
       "                                                                         Pipeline(steps=[('cat_imputer',\n",
       "                                                                                          SimpleImputer(strategy='most_frequent')),\n",
       "                                                                                         ('onehot',\n",
       "                                                                                          OneHotEncoder(handle_unknown='ignore'))]),\n",
       "                                                                         ['housing',\n",
       "                                                                          'month',\n",
       "                                                                          'poutcome',\n",
       "                                                                          'contact'])])),\n",
       "                                       ('clf_dt', DecisionTreeClassifier())]),\n",
       "             param_grid=[{'clf_dt__criterion': ['gini', 'entropy'],\n",
       "                          'clf_dt__max_depth': [3, 4, 5, 6, 7],\n",
       "                          'preprocessor__num_pipeline__num_imputer__strategy': ['mean',\n",
       "                                                                                'median']}],\n",
       "             scoring='accuracy')"
      ]
     },
     "execution_count": 9,
     "metadata": {},
     "output_type": "execute_result"
    }
   ],
   "source": [
    "# train the model using the full pipeline\n",
    "grid_search_dt.fit(X_train, y_train)"
   ]
  },
  {
   "cell_type": "code",
   "execution_count": 10,
   "metadata": {},
   "outputs": [
    {
     "data": {
      "text/plain": [
       "{'clf_dt__criterion': 'gini',\n",
       " 'clf_dt__max_depth': 7,\n",
       " 'preprocessor__num_pipeline__num_imputer__strategy': 'mean'}"
      ]
     },
     "execution_count": 10,
     "metadata": {},
     "output_type": "execute_result"
    }
   ],
   "source": [
    "# check the best performing parameter combination\n",
    "grid_search_dt.best_params_"
   ]
  },
  {
   "cell_type": "code",
   "execution_count": 11,
   "metadata": {},
   "outputs": [
    {
     "data": {
      "text/plain": [
       "['mean_fit_time',\n",
       " 'mean_score_time',\n",
       " 'mean_test_score',\n",
       " 'param_clf_dt__criterion',\n",
       " 'param_clf_dt__max_depth',\n",
       " 'param_preprocessor__num_pipeline__num_imputer__strategy',\n",
       " 'params',\n",
       " 'rank_test_score',\n",
       " 'split0_test_score',\n",
       " 'split1_test_score',\n",
       " 'split2_test_score',\n",
       " 'split3_test_score',\n",
       " 'split4_test_score',\n",
       " 'split5_test_score',\n",
       " 'split6_test_score',\n",
       " 'split7_test_score',\n",
       " 'split8_test_score',\n",
       " 'split9_test_score',\n",
       " 'std_fit_time',\n",
       " 'std_score_time',\n",
       " 'std_test_score']"
      ]
     },
     "execution_count": 11,
     "metadata": {},
     "output_type": "execute_result"
    }
   ],
   "source": [
    "# build-in CV results keys\n",
    "sorted(grid_search_dt.cv_results_.keys())"
   ]
  },
  {
   "cell_type": "code",
   "execution_count": 12,
   "metadata": {},
   "outputs": [
    {
     "data": {
      "text/plain": [
       "array([0.90054734, 0.90054734, 0.90035379, 0.90035379, 0.90226151,\n",
       "       0.90223387, 0.90096224, 0.90090695, 0.90239997, 0.90239996,\n",
       "       0.89935853, 0.89935853, 0.89982857, 0.89982857, 0.90118329,\n",
       "       0.90121094, 0.90110038, 0.90110038, 0.90137699, 0.90132171])"
      ]
     },
     "execution_count": 12,
     "metadata": {},
     "output_type": "execute_result"
    }
   ],
   "source": [
    "# test score for the 20 decision tree models\n",
    "grid_search_dt.cv_results_['mean_test_score']"
   ]
  },
  {
   "cell_type": "code",
   "execution_count": 13,
   "metadata": {},
   "outputs": [
    {
     "data": {
      "text/plain": [
       "0.9023999714964486"
      ]
     },
     "execution_count": 13,
     "metadata": {},
     "output_type": "execute_result"
    }
   ],
   "source": [
    "# best decistion tree model test score\n",
    "grid_search_dt.best_score_"
   ]
  },
  {
   "cell_type": "code",
   "execution_count": 14,
   "metadata": {},
   "outputs": [
    {
     "name": "stdout",
     "output_type": "stream",
     "text": [
      "best dt score is:  0.9023999714964486\n"
     ]
    }
   ],
   "source": [
    "# best test score\n",
    "print('best dt score is: ', grid_search_dt.best_score_)\n"
   ]
  },
  {
   "cell_type": "code",
   "execution_count": 15,
   "metadata": {},
   "outputs": [
    {
     "data": {
      "text/plain": [
       "Pipeline(steps=[('preprocessor',\n",
       "                 ColumnTransformer(transformers=[('num_pipeline',\n",
       "                                                  Pipeline(steps=[('num_imputer',\n",
       "                                                                   SimpleImputer()),\n",
       "                                                                  ('scaler',\n",
       "                                                                   StandardScaler())]),\n",
       "                                                  ['age', 'balance', 'day',\n",
       "                                                   'duration', 'pdays']),\n",
       "                                                 ('cat_pipeline',\n",
       "                                                  Pipeline(steps=[('cat_imputer',\n",
       "                                                                   SimpleImputer(strategy='most_frequent')),\n",
       "                                                                  ('onehot',\n",
       "                                                                   OneHotEncoder(handle_unknown='ignore'))]),\n",
       "                                                  ['housing', 'month',\n",
       "                                                   'poutcome', 'contact'])])),\n",
       "                ('clf_dt', DecisionTreeClassifier(max_depth=7))])"
      ]
     },
     "execution_count": 15,
     "metadata": {},
     "output_type": "execute_result"
    }
   ],
   "source": [
    "# select the best model\n",
    "# the best parameters are shown, note SimpleImputer() implies that mean strategry is used\n",
    "clf_best = grid_search_dt.best_estimator_\n",
    "clf_best"
   ]
  },
  {
   "cell_type": "code",
   "execution_count": 16,
   "metadata": {},
   "outputs": [],
   "source": [
    "# final test on the testing set\n",
    "# To predict on new data: simply calling the predict method \n",
    "# the full pipeline steps will be applied to the testing set followed by the prediction\n",
    "y_pred = clf_best.predict(X_test)"
   ]
  },
  {
   "cell_type": "code",
   "execution_count": 17,
   "metadata": {},
   "outputs": [
    {
     "data": {
      "text/plain": [
       "{'preprocessor': ColumnTransformer(transformers=[('num_pipeline',\n",
       "                                  Pipeline(steps=[('num_imputer',\n",
       "                                                   SimpleImputer()),\n",
       "                                                  ('scaler', StandardScaler())]),\n",
       "                                  ['age', 'balance', 'day', 'duration',\n",
       "                                   'pdays']),\n",
       "                                 ('cat_pipeline',\n",
       "                                  Pipeline(steps=[('cat_imputer',\n",
       "                                                   SimpleImputer(strategy='most_frequent')),\n",
       "                                                  ('onehot',\n",
       "                                                   OneHotEncoder(handle_unknown='ignore'))]),\n",
       "                                  ['housing', 'month', 'poutcome', 'contact'])]),\n",
       " 'clf_dt': DecisionTreeClassifier(max_depth=7)}"
      ]
     },
     "execution_count": 17,
     "metadata": {},
     "output_type": "execute_result"
    }
   ],
   "source": [
    "clf_best.named_steps"
   ]
  },
  {
   "cell_type": "code",
   "execution_count": 18,
   "metadata": {},
   "outputs": [
    {
     "data": {
      "text/plain": [
       "ColumnTransformer(transformers=[('num_pipeline',\n",
       "                                 Pipeline(steps=[('num_imputer',\n",
       "                                                  SimpleImputer()),\n",
       "                                                 ('scaler', StandardScaler())]),\n",
       "                                 ['age', 'balance', 'day', 'duration',\n",
       "                                  'pdays']),\n",
       "                                ('cat_pipeline',\n",
       "                                 Pipeline(steps=[('cat_imputer',\n",
       "                                                  SimpleImputer(strategy='most_frequent')),\n",
       "                                                 ('onehot',\n",
       "                                                  OneHotEncoder(handle_unknown='ignore'))]),\n",
       "                                 ['housing', 'month', 'poutcome', 'contact'])])"
      ]
     },
     "execution_count": 18,
     "metadata": {},
     "output_type": "execute_result"
    }
   ],
   "source": [
    "clf_best.named_steps['preprocessor']"
   ]
  },
  {
   "cell_type": "code",
   "execution_count": 19,
   "metadata": {},
   "outputs": [],
   "source": [
    "onehot_columns = list(clf_best.named_steps['preprocessor'].named_transformers_['cat_pipeline'].named_steps['onehot'].get_feature_names(input_features=cat_features))\n",
    "\n"
   ]
  },
  {
   "cell_type": "code",
   "execution_count": 20,
   "metadata": {},
   "outputs": [
    {
     "data": {
      "text/plain": [
       "array([0.04082185, 0.01429301, 0.02205914, 0.49049963, 0.04750922,\n",
       "       0.00112339, 0.04394799, 0.02161304, 0.0008162 , 0.        ,\n",
       "       0.00159478, 0.00061306, 0.00073547, 0.00411406, 0.02231354,\n",
       "       0.00542562, 0.00164968, 0.00903698, 0.00302178, 0.        ,\n",
       "       0.        , 0.25458985, 0.        , 0.00375056, 0.0005592 ,\n",
       "       0.00991195])"
      ]
     },
     "execution_count": 20,
     "metadata": {},
     "output_type": "execute_result"
    }
   ],
   "source": [
    "i = clf_best.named_steps[\"clf_dt\"].feature_importances_\n",
    "i"
   ]
  },
  {
   "cell_type": "code",
   "execution_count": 21,
   "metadata": {},
   "outputs": [],
   "source": [
    "numeric_features_list = list(num_features)\n",
    "numeric_features_list.extend(onehot_columns)"
   ]
  },
  {
   "cell_type": "code",
   "execution_count": 22,
   "metadata": {},
   "outputs": [
    {
     "name": "stdout",
     "output_type": "stream",
     "text": [
      "['age', 'balance', 'day', 'duration', 'pdays', 'housing_no', 'housing_yes', 'month_apr', 'month_aug', 'month_dec', 'month_feb', 'month_jan', 'month_jul', 'month_jun', 'month_mar', 'month_may', 'month_nov', 'month_oct', 'month_sep', 'poutcome_failure', 'poutcome_other', 'poutcome_success', 'poutcome_unknown', 'contact_cellular', 'contact_telephone', 'contact_unknown']\n"
     ]
    }
   ],
   "source": [
    "print(numeric_features_list)\n"
   ]
  },
  {
   "cell_type": "code",
   "execution_count": 23,
   "metadata": {},
   "outputs": [
    {
     "data": {
      "text/html": [
       "\n",
       "    <style>\n",
       "    table.eli5-weights tr:hover {\n",
       "        filter: brightness(85%);\n",
       "    }\n",
       "</style>\n",
       "\n",
       "\n",
       "\n",
       "    \n",
       "\n",
       "    \n",
       "\n",
       "    \n",
       "\n",
       "    \n",
       "\n",
       "    \n",
       "\n",
       "    \n",
       "\n",
       "\n",
       "    \n",
       "\n",
       "    \n",
       "\n",
       "    \n",
       "\n",
       "    \n",
       "\n",
       "    \n",
       "\n",
       "    \n",
       "\n",
       "\n",
       "    \n",
       "\n",
       "    \n",
       "\n",
       "    \n",
       "\n",
       "    \n",
       "\n",
       "    \n",
       "        <table class=\"eli5-weights eli5-feature-importances\" style=\"border-collapse: collapse; border: none; margin-top: 0em; table-layout: auto;\">\n",
       "    <thead>\n",
       "    <tr style=\"border: none;\">\n",
       "        <th style=\"padding: 0 1em 0 0.5em; text-align: right; border: none;\">Weight</th>\n",
       "        <th style=\"padding: 0 0.5em 0 0.5em; text-align: left; border: none;\">Feature</th>\n",
       "    </tr>\n",
       "    </thead>\n",
       "    <tbody>\n",
       "    \n",
       "        <tr style=\"background-color: hsl(120, 100.00%, 80.00%); border: none;\">\n",
       "            <td style=\"padding: 0 1em 0 0.5em; text-align: right; border: none;\">\n",
       "                0.4905\n",
       "                \n",
       "            </td>\n",
       "            <td style=\"padding: 0 0.5em 0 0.5em; text-align: left; border: none;\">\n",
       "                duration\n",
       "            </td>\n",
       "        </tr>\n",
       "    \n",
       "        <tr style=\"background-color: hsl(120, 100.00%, 87.36%); border: none;\">\n",
       "            <td style=\"padding: 0 1em 0 0.5em; text-align: right; border: none;\">\n",
       "                0.2546\n",
       "                \n",
       "            </td>\n",
       "            <td style=\"padding: 0 0.5em 0 0.5em; text-align: left; border: none;\">\n",
       "                poutcome_success\n",
       "            </td>\n",
       "        </tr>\n",
       "    \n",
       "        <tr style=\"background-color: hsl(120, 100.00%, 96.10%); border: none;\">\n",
       "            <td style=\"padding: 0 1em 0 0.5em; text-align: right; border: none;\">\n",
       "                0.0475\n",
       "                \n",
       "            </td>\n",
       "            <td style=\"padding: 0 0.5em 0 0.5em; text-align: left; border: none;\">\n",
       "                pdays\n",
       "            </td>\n",
       "        </tr>\n",
       "    \n",
       "        <tr style=\"background-color: hsl(120, 100.00%, 96.30%); border: none;\">\n",
       "            <td style=\"padding: 0 1em 0 0.5em; text-align: right; border: none;\">\n",
       "                0.0439\n",
       "                \n",
       "            </td>\n",
       "            <td style=\"padding: 0 0.5em 0 0.5em; text-align: left; border: none;\">\n",
       "                housing_yes\n",
       "            </td>\n",
       "        </tr>\n",
       "    \n",
       "        <tr style=\"background-color: hsl(120, 100.00%, 96.49%); border: none;\">\n",
       "            <td style=\"padding: 0 1em 0 0.5em; text-align: right; border: none;\">\n",
       "                0.0408\n",
       "                \n",
       "            </td>\n",
       "            <td style=\"padding: 0 0.5em 0 0.5em; text-align: left; border: none;\">\n",
       "                age\n",
       "            </td>\n",
       "        </tr>\n",
       "    \n",
       "        <tr style=\"background-color: hsl(120, 100.00%, 97.70%); border: none;\">\n",
       "            <td style=\"padding: 0 1em 0 0.5em; text-align: right; border: none;\">\n",
       "                0.0223\n",
       "                \n",
       "            </td>\n",
       "            <td style=\"padding: 0 0.5em 0 0.5em; text-align: left; border: none;\">\n",
       "                month_mar\n",
       "            </td>\n",
       "        </tr>\n",
       "    \n",
       "        <tr style=\"background-color: hsl(120, 100.00%, 97.72%); border: none;\">\n",
       "            <td style=\"padding: 0 1em 0 0.5em; text-align: right; border: none;\">\n",
       "                0.0221\n",
       "                \n",
       "            </td>\n",
       "            <td style=\"padding: 0 0.5em 0 0.5em; text-align: left; border: none;\">\n",
       "                day\n",
       "            </td>\n",
       "        </tr>\n",
       "    \n",
       "        <tr style=\"background-color: hsl(120, 100.00%, 97.75%); border: none;\">\n",
       "            <td style=\"padding: 0 1em 0 0.5em; text-align: right; border: none;\">\n",
       "                0.0216\n",
       "                \n",
       "            </td>\n",
       "            <td style=\"padding: 0 0.5em 0 0.5em; text-align: left; border: none;\">\n",
       "                month_apr\n",
       "            </td>\n",
       "        </tr>\n",
       "    \n",
       "        <tr style=\"background-color: hsl(120, 100.00%, 98.32%); border: none;\">\n",
       "            <td style=\"padding: 0 1em 0 0.5em; text-align: right; border: none;\">\n",
       "                0.0143\n",
       "                \n",
       "            </td>\n",
       "            <td style=\"padding: 0 0.5em 0 0.5em; text-align: left; border: none;\">\n",
       "                balance\n",
       "            </td>\n",
       "        </tr>\n",
       "    \n",
       "        <tr style=\"background-color: hsl(120, 100.00%, 98.70%); border: none;\">\n",
       "            <td style=\"padding: 0 1em 0 0.5em; text-align: right; border: none;\">\n",
       "                0.0099\n",
       "                \n",
       "            </td>\n",
       "            <td style=\"padding: 0 0.5em 0 0.5em; text-align: left; border: none;\">\n",
       "                contact_unknown\n",
       "            </td>\n",
       "        </tr>\n",
       "    \n",
       "        <tr style=\"background-color: hsl(120, 100.00%, 98.78%); border: none;\">\n",
       "            <td style=\"padding: 0 1em 0 0.5em; text-align: right; border: none;\">\n",
       "                0.0090\n",
       "                \n",
       "            </td>\n",
       "            <td style=\"padding: 0 0.5em 0 0.5em; text-align: left; border: none;\">\n",
       "                month_oct\n",
       "            </td>\n",
       "        </tr>\n",
       "    \n",
       "        <tr style=\"background-color: hsl(120, 100.00%, 99.15%); border: none;\">\n",
       "            <td style=\"padding: 0 1em 0 0.5em; text-align: right; border: none;\">\n",
       "                0.0054\n",
       "                \n",
       "            </td>\n",
       "            <td style=\"padding: 0 0.5em 0 0.5em; text-align: left; border: none;\">\n",
       "                month_may\n",
       "            </td>\n",
       "        </tr>\n",
       "    \n",
       "        <tr style=\"background-color: hsl(120, 100.00%, 99.30%); border: none;\">\n",
       "            <td style=\"padding: 0 1em 0 0.5em; text-align: right; border: none;\">\n",
       "                0.0041\n",
       "                \n",
       "            </td>\n",
       "            <td style=\"padding: 0 0.5em 0 0.5em; text-align: left; border: none;\">\n",
       "                month_jun\n",
       "            </td>\n",
       "        </tr>\n",
       "    \n",
       "        <tr style=\"background-color: hsl(120, 100.00%, 99.34%); border: none;\">\n",
       "            <td style=\"padding: 0 1em 0 0.5em; text-align: right; border: none;\">\n",
       "                0.0038\n",
       "                \n",
       "            </td>\n",
       "            <td style=\"padding: 0 0.5em 0 0.5em; text-align: left; border: none;\">\n",
       "                contact_cellular\n",
       "            </td>\n",
       "        </tr>\n",
       "    \n",
       "        <tr style=\"background-color: hsl(120, 100.00%, 99.43%); border: none;\">\n",
       "            <td style=\"padding: 0 1em 0 0.5em; text-align: right; border: none;\">\n",
       "                0.0030\n",
       "                \n",
       "            </td>\n",
       "            <td style=\"padding: 0 0.5em 0 0.5em; text-align: left; border: none;\">\n",
       "                month_sep\n",
       "            </td>\n",
       "        </tr>\n",
       "    \n",
       "        <tr style=\"background-color: hsl(120, 100.00%, 99.63%); border: none;\">\n",
       "            <td style=\"padding: 0 1em 0 0.5em; text-align: right; border: none;\">\n",
       "                0.0016\n",
       "                \n",
       "            </td>\n",
       "            <td style=\"padding: 0 0.5em 0 0.5em; text-align: left; border: none;\">\n",
       "                month_nov\n",
       "            </td>\n",
       "        </tr>\n",
       "    \n",
       "        <tr style=\"background-color: hsl(120, 100.00%, 99.64%); border: none;\">\n",
       "            <td style=\"padding: 0 1em 0 0.5em; text-align: right; border: none;\">\n",
       "                0.0016\n",
       "                \n",
       "            </td>\n",
       "            <td style=\"padding: 0 0.5em 0 0.5em; text-align: left; border: none;\">\n",
       "                month_feb\n",
       "            </td>\n",
       "        </tr>\n",
       "    \n",
       "        <tr style=\"background-color: hsl(120, 100.00%, 99.72%); border: none;\">\n",
       "            <td style=\"padding: 0 1em 0 0.5em; text-align: right; border: none;\">\n",
       "                0.0011\n",
       "                \n",
       "            </td>\n",
       "            <td style=\"padding: 0 0.5em 0 0.5em; text-align: left; border: none;\">\n",
       "                housing_no\n",
       "            </td>\n",
       "        </tr>\n",
       "    \n",
       "        <tr style=\"background-color: hsl(120, 100.00%, 99.77%); border: none;\">\n",
       "            <td style=\"padding: 0 1em 0 0.5em; text-align: right; border: none;\">\n",
       "                0.0008\n",
       "                \n",
       "            </td>\n",
       "            <td style=\"padding: 0 0.5em 0 0.5em; text-align: left; border: none;\">\n",
       "                month_aug\n",
       "            </td>\n",
       "        </tr>\n",
       "    \n",
       "        <tr style=\"background-color: hsl(120, 100.00%, 99.79%); border: none;\">\n",
       "            <td style=\"padding: 0 1em 0 0.5em; text-align: right; border: none;\">\n",
       "                0.0007\n",
       "                \n",
       "            </td>\n",
       "            <td style=\"padding: 0 0.5em 0 0.5em; text-align: left; border: none;\">\n",
       "                month_jul\n",
       "            </td>\n",
       "        </tr>\n",
       "    \n",
       "        <tr style=\"background-color: hsl(120, 100.00%, 99.81%); border: none;\">\n",
       "            <td style=\"padding: 0 1em 0 0.5em; text-align: right; border: none;\">\n",
       "                0.0006\n",
       "                \n",
       "            </td>\n",
       "            <td style=\"padding: 0 0.5em 0 0.5em; text-align: left; border: none;\">\n",
       "                month_jan\n",
       "            </td>\n",
       "        </tr>\n",
       "    \n",
       "        <tr style=\"background-color: hsl(120, 100.00%, 99.83%); border: none;\">\n",
       "            <td style=\"padding: 0 1em 0 0.5em; text-align: right; border: none;\">\n",
       "                0.0006\n",
       "                \n",
       "            </td>\n",
       "            <td style=\"padding: 0 0.5em 0 0.5em; text-align: left; border: none;\">\n",
       "                contact_telephone\n",
       "            </td>\n",
       "        </tr>\n",
       "    \n",
       "        <tr style=\"background-color: hsl(0, 100.00%, 100.00%); border: none;\">\n",
       "            <td style=\"padding: 0 1em 0 0.5em; text-align: right; border: none;\">\n",
       "                0\n",
       "                \n",
       "            </td>\n",
       "            <td style=\"padding: 0 0.5em 0 0.5em; text-align: left; border: none;\">\n",
       "                month_dec\n",
       "            </td>\n",
       "        </tr>\n",
       "    \n",
       "        <tr style=\"background-color: hsl(0, 100.00%, 100.00%); border: none;\">\n",
       "            <td style=\"padding: 0 1em 0 0.5em; text-align: right; border: none;\">\n",
       "                0\n",
       "                \n",
       "            </td>\n",
       "            <td style=\"padding: 0 0.5em 0 0.5em; text-align: left; border: none;\">\n",
       "                poutcome_failure\n",
       "            </td>\n",
       "        </tr>\n",
       "    \n",
       "        <tr style=\"background-color: hsl(0, 100.00%, 100.00%); border: none;\">\n",
       "            <td style=\"padding: 0 1em 0 0.5em; text-align: right; border: none;\">\n",
       "                0\n",
       "                \n",
       "            </td>\n",
       "            <td style=\"padding: 0 0.5em 0 0.5em; text-align: left; border: none;\">\n",
       "                poutcome_other\n",
       "            </td>\n",
       "        </tr>\n",
       "    \n",
       "        <tr style=\"background-color: hsl(0, 100.00%, 100.00%); border: none;\">\n",
       "            <td style=\"padding: 0 1em 0 0.5em; text-align: right; border: none;\">\n",
       "                0\n",
       "                \n",
       "            </td>\n",
       "            <td style=\"padding: 0 0.5em 0 0.5em; text-align: left; border: none;\">\n",
       "                poutcome_unknown\n",
       "            </td>\n",
       "        </tr>\n",
       "    \n",
       "    \n",
       "    </tbody>\n",
       "</table>\n",
       "    \n",
       "\n",
       "    \n",
       "\n",
       "\n",
       "    \n",
       "\n",
       "    \n",
       "\n",
       "    \n",
       "\n",
       "    \n",
       "\n",
       "    \n",
       "\n",
       "    \n",
       "        \n",
       "        <br>\n",
       "        <pre>duration <= 1.015  (89.0%)\n",
       "    poutcome_success <= 0.500  (86.1%)\n",
       "        duration <= -0.205  (54.9%)\n",
       "            month_mar <= 0.500  (54.4%)\n",
       "                month_oct <= 0.500  (53.7%)\n",
       "                    age <= 2.598  (53.3%)\n",
       "                        month_apr <= 0.500  (50.4%)  ---> 0.017\n",
       "                        month_apr > 0.500  (2.9%)  ---> 0.081\n",
       "                    age > 2.598  (0.4%)\n",
       "                        month_feb <= 0.500  (0.3%)  ---> 0.183\n",
       "                        month_feb > 0.500  (0.1%)  ---> 0.500\n",
       "                month_oct > 0.500  (0.7%)\n",
       "                    duration <= -0.629  (0.2%)\n",
       "                        duration <= -0.695  (0.2%)  ---> 0.000\n",
       "                        duration > -0.695  (0.1%)  ---> 0.061\n",
       "                    duration > -0.629  (0.5%)\n",
       "                        day <= 0.562  (0.3%)  ---> 0.167\n",
       "                        day > 0.562  (0.2%)  ---> 0.573\n",
       "            month_mar > 0.500  (0.6%)\n",
       "                duration <= -0.590  (0.2%)\n",
       "                    duration <= -0.693  (0.1%)\n",
       "                        balance <= -0.278  (0.0%)  ---> 0.111\n",
       "                        balance > -0.278  (0.1%)  ---> 0.000\n",
       "                    duration > -0.693  (0.1%)\n",
       "                        day <= -0.218  (0.1%)  ---> 0.346\n",
       "                        day > -0.218  (0.0%)  ---> 0.056\n",
       "                duration > -0.590  (0.3%)\n",
       "                    duration <= -0.328  (0.2%)\n",
       "                        age <= -0.696  (0.1%)  ---> 0.188\n",
       "                        age > -0.696  (0.1%)  ---> 0.519\n",
       "                    duration > -0.328  (0.1%)\n",
       "                        day <= -0.278  (0.0%)  ---> 0.875\n",
       "                        day > -0.278  (0.1%)  ---> 0.421\n",
       "        duration > -0.205  (31.2%)\n",
       "            housing_yes <= 0.500  (13.3%)\n",
       "                age <= 1.845  (12.4%)\n",
       "                    month_apr <= 0.500  (11.9%)\n",
       "                        pdays <= -0.201  (10.5%)  ---> 0.127\n",
       "                        pdays > -0.201  (1.4%)  ---> 0.369\n",
       "                    month_apr > 0.500  (0.6%)\n",
       "                        pdays <= 1.536  (0.5%)  ---> 0.568\n",
       "                        pdays > 1.536  (0.1%)  ---> 0.172\n",
       "                age > 1.845  (0.8%)\n",
       "                    pdays <= 0.533  (0.7%)\n",
       "                        balance <= -0.329  (0.2%)  ---> 0.383\n",
       "                        balance > -0.329  (0.5%)  ---> 0.574\n",
       "                    pdays > 0.533  (0.1%)\n",
       "                        duration <= 0.498  (0.1%)  ---> 0.227\n",
       "                        duration > 0.498  (0.0%)  ---> 0.667\n",
       "            housing_yes > 0.500  (17.9%)\n",
       "                pdays <= 3.338  (17.8%)\n",
       "                    month_mar <= 0.500  (17.7%)\n",
       "                        age <= 2.033  (17.7%)  ---> 0.048\n",
       "                        age > 2.033  (0.0%)  ---> 0.818\n",
       "                    month_mar > 0.500  (0.1%)\n",
       "                        day <= 1.462  (0.0%)  ---> 0.889\n",
       "                        day > 1.462  (0.0%)  ---> 0.250\n",
       "                pdays > 3.338  (0.1%)\n",
       "                    duration <= 0.025  (0.0%)\n",
       "                        balance <= -0.124  (0.0%)  ---> 0.222\n",
       "                        balance > -0.124  (0.0%)  ---> 1.000\n",
       "                    duration > 0.025  (0.1%)\n",
       "                        duration <= 0.878  (0.1%)  ---> 0.955\n",
       "                        duration > 0.878  (0.0%)  ---> 0.500\n",
       "    poutcome_success > 0.500  (2.9%)\n",
       "        duration <= -0.486  (0.5%)\n",
       "            duration <= -0.679  (0.2%)\n",
       "                balance <= 4.353  (0.2%)\n",
       "                    pdays <= 3.348  (0.1%)\n",
       "                        month_feb <= 0.500  (0.1%)  ---> 0.021\n",
       "                        month_feb > 0.500  (0.0%)  ---> 0.333\n",
       "                    pdays > 3.348  (0.0%)\n",
       "                        pdays <= 3.787  (0.0%)  ---> 0.667\n",
       "                        pdays > 3.787  (0.0%)  ---> 0.000\n",
       "                balance > 4.353  (0.0%)  ---> 1.000\n",
       "            duration > -0.679  (0.4%)\n",
       "                month_sep <= 0.500  (0.4%)\n",
       "                    pdays <= 0.622  (0.2%)\n",
       "                        pdays <= 0.448  (0.1%)  ---> 0.158\n",
       "                        pdays > 0.448  (0.1%)  ---> 0.463\n",
       "                    pdays > 0.622  (0.2%)\n",
       "                        balance <= -0.364  (0.0%)  ---> 0.462\n",
       "                        balance > -0.364  (0.2%)  ---> 0.073\n",
       "                month_sep > 0.500  (0.0%)\n",
       "                    pdays <= 1.127  (0.0%)\n",
       "                        age <= -0.602  (0.0%)  ---> 0.000\n",
       "                        age > -0.602  (0.0%)  ---> 1.000\n",
       "                    pdays > 1.127  (0.0%)  ---> 0.000\n",
       "        duration > -0.486  (2.3%)\n",
       "            month_may <= 0.500  (2.0%)\n",
       "                duration <= -0.170  (0.7%)\n",
       "                    balance <= 0.407  (0.5%)\n",
       "                        duration <= -0.374  (0.2%)  ---> 0.533\n",
       "                        duration > -0.374  (0.4%)  ---> 0.766\n",
       "                    balance > 0.407  (0.2%)\n",
       "                        month_sep <= 0.500  (0.1%)  ---> 0.429\n",
       "                        month_sep > 0.500  (0.0%)  ---> 1.000\n",
       "                duration > -0.170  (1.3%)\n",
       "                    month_nov <= 0.500  (1.2%)\n",
       "                        duration <= 0.525  (1.0%)  ---> 0.828\n",
       "                        duration > 0.525  (0.2%)  ---> 0.724\n",
       "                    month_nov > 0.500  (0.1%)\n",
       "                        day <= 0.202  (0.1%)  ---> 0.852\n",
       "                        day > 0.202  (0.0%)  ---> 0.312\n",
       "            month_may > 0.500  (0.3%)\n",
       "                housing_yes <= 0.500  (0.2%)\n",
       "                    duration <= 0.091  (0.1%)\n",
       "                        day <= 0.502  (0.1%)  ---> 0.727\n",
       "                        day > 0.502  (0.0%)  ---> 0.400\n",
       "                    duration > 0.091  (0.1%)\n",
       "                        pdays <= 0.433  (0.0%)  ---> 0.333\n",
       "                        pdays > 0.433  (0.1%)  ---> 1.000\n",
       "                housing_yes > 0.500  (0.2%)\n",
       "                    duration <= 0.783  (0.1%)\n",
       "                        day <= 0.502  (0.1%)  ---> 0.174\n",
       "                        day > 0.502  (0.0%)  ---> 0.625\n",
       "                    duration > 0.783  (0.0%)  ---> 1.000\n",
       "duration > 1.015  (11.0%)\n",
       "    duration <= 2.196  (7.0%)\n",
       "        poutcome_success <= 0.500  (6.7%)\n",
       "            contact_unknown <= 0.500  (4.8%)\n",
       "                duration <= 1.447  (2.5%)\n",
       "                    month_jun <= 0.500  (2.4%)\n",
       "                        age <= 2.080  (2.3%)  ---> 0.297\n",
       "                        age > 2.080  (0.1%)  ---> 0.607\n",
       "                    month_jun > 0.500  (0.1%)\n",
       "                        day <= -1.118  (0.0%)  ---> 1.000\n",
       "                        day > -1.118  (0.0%)  ---> 0.500\n",
       "                duration > 1.447  (2.3%)\n",
       "                    day <= -0.038  (1.1%)\n",
       "                        balance <= 0.317  (0.9%)  ---> 0.476\n",
       "                        balance > 0.317  (0.3%)  ---> 0.648\n",
       "                    day > -0.038  (1.2%)\n",
       "                        housing_yes <= 0.500  (0.6%)  ---> 0.486\n",
       "                        housing_yes > 0.500  (0.6%)  ---> 0.322\n",
       "            contact_unknown > 0.500  (1.9%)\n",
       "                duration <= 1.505  (1.0%)\n",
       "                    age <= 0.434  (0.7%)\n",
       "                        month_may <= 0.500  (0.3%)  ---> 0.277\n",
       "                        month_may > 0.500  (0.5%)  ---> 0.136\n",
       "                    age > 0.434  (0.3%)\n",
       "                        duration <= 1.478  (0.3%)  ---> 0.061\n",
       "                        duration > 1.478  (0.0%)  ---> 0.400\n",
       "                duration > 1.505  (0.9%)\n",
       "                    age <= -0.696  (0.3%)\n",
       "                        duration <= 2.149  (0.3%)  ---> 0.426\n",
       "                        duration > 2.149  (0.0%)  ---> 0.000\n",
       "                    age > -0.696  (0.6%)\n",
       "                        balance <= -0.427  (0.1%)  ---> 0.098\n",
       "                        balance > -0.427  (0.5%)  ---> 0.280\n",
       "        poutcome_success > 0.500  (0.3%)\n",
       "            housing_no <= 0.500  (0.1%)\n",
       "                month_jul <= 0.500  (0.1%)\n",
       "                    day <= 0.322  (0.1%)\n",
       "                        day <= -1.358  (0.0%)  ---> 1.000\n",
       "                        day > -1.358  (0.1%)  ---> 0.571\n",
       "                    day > 0.322  (0.0%)\n",
       "                        month_oct <= 0.500  (0.0%)  ---> 1.000\n",
       "                        month_oct > 0.500  (0.0%)  ---> 0.500\n",
       "                month_jul > 0.500  (0.0%)  ---> 0.000\n",
       "            housing_no > 0.500  (0.2%)\n",
       "                day <= 1.762  (0.2%)\n",
       "                    day <= -1.718  (0.0%)\n",
       "                        balance <= 1.887  (0.0%)  ---> 0.000\n",
       "                        balance > 1.887  (0.0%)  ---> 1.000\n",
       "                    day > -1.718  (0.2%)\n",
       "                        month_may <= 0.500  (0.1%)  ---> 1.000\n",
       "                        month_may > 0.500  (0.0%)  ---> 0.818\n",
       "                day > 1.762  (0.0%)  ---> 0.000\n",
       "    duration > 2.196  (4.0%)\n",
       "        contact_cellular <= 0.500  (1.3%)\n",
       "            balance <= -0.179  (0.8%)\n",
       "                day <= 1.642  (0.7%)\n",
       "                    month_jun <= 0.500  (0.5%)\n",
       "                        duration <= 2.881  (0.2%)  ---> 0.269\n",
       "                        duration > 2.881  (0.3%)  ---> 0.441\n",
       "                    month_jun > 0.500  (0.2%)\n",
       "                        balance <= -0.456  (0.0%)  ---> 0.909\n",
       "                        balance > -0.456  (0.2%)  ---> 0.485\n",
       "                day > 1.642  (0.0%)\n",
       "                    duration <= 2.394  (0.0%)  ---> 0.000\n",
       "                    duration > 2.394  (0.0%)\n",
       "                        duration <= 4.920  (0.0%)  ---> 1.000\n",
       "                        duration > 4.920  (0.0%)  ---> 0.500\n",
       "            balance > -0.179  (0.5%)\n",
       "                balance <= 2.489  (0.5%)\n",
       "                    age <= -1.072  (0.0%)\n",
       "                        duration <= 3.840  (0.0%)  ---> 0.111\n",
       "                        duration > 3.840  (0.0%)  ---> 0.750\n",
       "                    age > -1.072  (0.5%)\n",
       "                        month_jan <= 0.500  (0.5%)  ---> 0.645\n",
       "                        month_jan > 0.500  (0.0%)  ---> 0.000\n",
       "                balance > 2.489  (0.0%)\n",
       "                    duration <= 3.840  (0.0%)  ---> 0.000\n",
       "                    duration > 3.840  (0.0%)\n",
       "                        contact_telephone <= 0.500  (0.0%)  ---> 1.000\n",
       "                        contact_telephone > 0.500  (0.0%)  ---> 0.000\n",
       "        contact_cellular > 0.500  (2.7%)\n",
       "            age <= 1.280  (2.3%)\n",
       "                poutcome_success <= 0.500  (2.2%)\n",
       "                    pdays <= 0.837  (1.9%)\n",
       "                        duration <= 3.716  (1.3%)  ---> 0.625\n",
       "                        duration > 3.716  (0.5%)  ---> 0.737\n",
       "                    pdays > 0.837  (0.3%)\n",
       "                        pdays <= 1.301  (0.1%)  ---> 0.238\n",
       "                        pdays > 1.301  (0.3%)  ---> 0.589\n",
       "                poutcome_success > 0.500  (0.1%)\n",
       "                    day <= -0.938  (0.0%)\n",
       "                        balance <= -0.169  (0.0%)  ---> 1.000\n",
       "                        balance > -0.169  (0.0%)  ---> 0.455\n",
       "                    day > -0.938  (0.1%)  ---> 1.000\n",
       "            age > 1.280  (0.4%)\n",
       "                day <= 0.802  (0.3%)\n",
       "                    month_nov <= 0.500  (0.3%)\n",
       "                        pdays <= 1.446  (0.2%)  ---> 0.639\n",
       "                        pdays > 1.446  (0.0%)  ---> 0.250\n",
       "                    month_nov > 0.500  (0.0%)\n",
       "                        age <= 2.410  (0.0%)  ---> 0.200\n",
       "                        age > 2.410  (0.0%)  ---> 1.000\n",
       "                day > 0.802  (0.1%)\n",
       "                    month_aug <= 0.500  (0.1%)\n",
       "                        balance <= -0.457  (0.0%)  ---> 0.667\n",
       "                        balance > -0.457  (0.1%)  ---> 0.158\n",
       "                    month_aug > 0.500  (0.0%)  ---> 1.000</pre>\n",
       "    \n",
       "\n",
       "\n",
       "\n"
      ],
      "text/plain": [
       "Explanation(estimator='DecisionTreeClassifier(max_depth=7)', description='\\nDecision tree feature importances; values are numbers 0 <= x <= 1;\\nall values sum to 1.\\n', error=None, method='decision tree', is_regression=False, targets=None, feature_importances=FeatureImportances(importances=[FeatureWeight(feature='duration', weight=0.49049962889484455, std=None, value=None), FeatureWeight(feature='poutcome_success', weight=0.2545898540303591, std=None, value=None), FeatureWeight(feature='pdays', weight=0.047509224232764415, std=None, value=None), FeatureWeight(feature='housing_yes', weight=0.04394798903923815, std=None, value=None), FeatureWeight(feature='age', weight=0.0408218531400163, std=None, value=None), FeatureWeight(feature='month_mar', weight=0.02231354156928856, std=None, value=None), FeatureWeight(feature='day', weight=0.022059139097687693, std=None, value=None), FeatureWeight(feature='month_apr', weight=0.021613035058453477, std=None, value=None), FeatureWeight(feature='balance', weight=0.014293009904805247, std=None, value=None), FeatureWeight(feature='contact_unknown', weight=0.009911945051575732, std=None, value=None), FeatureWeight(feature='month_oct', weight=0.009036980889180481, std=None, value=None), FeatureWeight(feature='month_may', weight=0.005425623180930699, std=None, value=None), FeatureWeight(feature='month_jun', weight=0.004114064524445364, std=None, value=None), FeatureWeight(feature='contact_cellular', weight=0.0037505592541403456, std=None, value=None), FeatureWeight(feature='month_sep', weight=0.0030217841001314583, std=None, value=None), FeatureWeight(feature='month_nov', weight=0.001649680434396159, std=None, value=None), FeatureWeight(feature='month_feb', weight=0.0015947765548185477, std=None, value=None), FeatureWeight(feature='housing_no', weight=0.001123386489060303, std=None, value=None), FeatureWeight(feature='month_aug', weight=0.0008162014338474481, std=None, value=None), FeatureWeight(feature='month_jul', weight=0.0007354653961229574, std=None, value=None), FeatureWeight(feature='month_jan', weight=0.0006130608937829086, std=None, value=None), FeatureWeight(feature='contact_telephone', weight=0.0005591968301100167, std=None, value=None), FeatureWeight(feature='month_dec', weight=0.0, std=None, value=None), FeatureWeight(feature='poutcome_failure', weight=0.0, std=None, value=None), FeatureWeight(feature='poutcome_other', weight=0.0, std=None, value=None), FeatureWeight(feature='poutcome_unknown', weight=0.0, std=None, value=None)], remaining=0), decision_tree=TreeInfo(criterion='gini', tree=NodeInfo(id=0, is_leaf=False, value=[31937.0, 4231.0], value_ratio=[0.8830181375801813, 0.11698186241981863], impurity=0.2065942125692185, samples=36168, sample_ratio=1.0, feature_name='duration', feature_id=3, threshold=1.0148730874061584, left=NodeInfo(id=1, is_leaf=False, value=[29710.0, 2470.0], value_ratio=[0.9232442510876321, 0.07675574891236793], impurity=0.14172860784253893, samples=32180, sample_ratio=0.8897367838973679, feature_name='poutcome_success', feature_id=21, threshold=0.5, left=NodeInfo(id=2, is_leaf=False, value=[29316.0, 1829.0], value_ratio=[0.9412746829346604, 0.05872531706533954], impurity=0.11055330840182975, samples=31145, sample_ratio=0.8611203273612033, feature_name='duration', feature_id=3, threshold=-0.2045503333210945, left=NodeInfo(id=3, is_leaf=False, value=[19318.0, 548.0], value_ratio=[0.9724151817175073, 0.0275848182824927], impurity=0.053647792165629093, samples=19866, sample_ratio=0.5492700729927007, feature_name='month_mar', feature_id=14, threshold=0.5, left=NodeInfo(id=4, is_leaf=False, value=[19186.0, 481.0], value_ratio=[0.9755427874103829, 0.024457212589617125], impurity=0.04771811468392684, samples=19667, sample_ratio=0.5437679716876798, feature_name='month_oct', feature_id=17, threshold=0.5, left=NodeInfo(id=5, is_leaf=False, value=[18988.0, 420.0], value_ratio=[0.9783594394064303, 0.021640560593569662], impurity=0.04234449346153135, samples=19408, sample_ratio=0.5366069453660695, feature_name='age', feature_id=0, threshold=2.597834587097168, left=NodeInfo(id=6, is_leaf=False, value=[18879.0, 387.0], value_ratio=[0.9799127997508564, 0.02008720024914357], impurity=0.03936740927058879, samples=19266, sample_ratio=0.5326808228268082, feature_name='month_apr', feature_id=7, threshold=0.5, left=NodeInfo(id=7, is_leaf=True, value=[17924.0, 303.0], value_ratio=[0.9833763098699732, 0.01662369013002688], impurity=0.032694686112975435, samples=18227, sample_ratio=0.5039537712895377, feature_name=None, feature_id=None, threshold=None, left=None, right=None), right=NodeInfo(id=8, is_leaf=True, value=[955.0, 84.0], value_ratio=[0.9191530317613089, 0.08084696823869104], impurity=0.14862147193060626, samples=1039, sample_ratio=0.028727051537270516, feature_name=None, feature_id=None, threshold=None, left=None, right=None)), right=NodeInfo(id=9, is_leaf=False, value=[109.0, 33.0], value_ratio=[0.7676056338028169, 0.2323943661971831], impurity=0.3567744495139853, samples=142, sample_ratio=0.003926122539261226, feature_name='month_feb', feature_id=10, threshold=0.5, left=NodeInfo(id=10, is_leaf=True, value=[98.0, 22.0], value_ratio=[0.8166666666666667, 0.18333333333333332], impurity=0.2994444444444444, samples=120, sample_ratio=0.0033178500331785005, feature_name=None, feature_id=None, threshold=None, left=None, right=None), right=NodeInfo(id=11, is_leaf=True, value=[11.0, 11.0], value_ratio=[0.5, 0.5], impurity=0.5, samples=22, sample_ratio=0.0006082725060827251, feature_name=None, feature_id=None, threshold=None, left=None, right=None))), right=NodeInfo(id=12, is_leaf=False, value=[198.0, 61.0], value_ratio=[0.7644787644787645, 0.23552123552123552], impurity=0.36010196627957247, samples=259, sample_ratio=0.007161026321610264, feature_name='duration', feature_id=3, threshold=-0.6290331482887268, left=NodeInfo(id=13, is_leaf=False, value=[86.0, 2.0], value_ratio=[0.9772727272727273, 0.022727272727272728], impurity=0.044421487603305776, samples=88, sample_ratio=0.0024330900243309003, feature_name='duration', feature_id=3, threshold=-0.6946350634098053, left=NodeInfo(id=14, is_leaf=True, value=[55.0, 0.0], value_ratio=[1.0, 0.0], impurity=0.0, samples=55, sample_ratio=0.0015206812652068127, feature_name=None, feature_id=None, threshold=None, left=None, right=None), right=NodeInfo(id=15, is_leaf=True, value=[31.0, 2.0], value_ratio=[0.9393939393939394, 0.06060606060606061], impurity=0.1138659320477502, samples=33, sample_ratio=0.0009124087591240876, feature_name=None, feature_id=None, threshold=None, left=None, right=None)), right=NodeInfo(id=16, is_leaf=False, value=[112.0, 59.0], value_ratio=[0.6549707602339181, 0.34502923976608185], impurity=0.45196812694504296, samples=171, sample_ratio=0.004727936297279363, feature_name='day', feature_id=2, threshold=0.5619437396526337, left=NodeInfo(id=17, is_leaf=True, value=[80.0, 16.0], value_ratio=[0.8333333333333334, 0.16666666666666666], impurity=0.2777777777777778, samples=96, sample_ratio=0.0026542800265428003, feature_name=None, feature_id=None, threshold=None, left=None, right=None), right=NodeInfo(id=18, is_leaf=True, value=[32.0, 43.0], value_ratio=[0.4266666666666667, 0.5733333333333334], impurity=0.4892444444444445, samples=75, sample_ratio=0.0020736562707365626, feature_name=None, feature_id=None, threshold=None, left=None, right=None)))), right=NodeInfo(id=19, is_leaf=False, value=[132.0, 67.0], value_ratio=[0.6633165829145728, 0.33668341708542715], impurity=0.44665538749021494, samples=199, sample_ratio=0.005502101305021013, feature_name='duration', feature_id=3, threshold=-0.5904438197612762, left=NodeInfo(id=20, is_leaf=False, value=[67.0, 11.0], value_ratio=[0.8589743589743589, 0.14102564102564102], impurity=0.24227481919789617, samples=78, sample_ratio=0.0021566025215660253, feature_name='duration', feature_id=3, threshold=-0.6927056014537811, left=NodeInfo(id=21, is_leaf=False, value=[33.0, 1.0], value_ratio=[0.9705882352941176, 0.029411764705882353], impurity=0.05709342560553632, samples=34, sample_ratio=0.0009400575094005751, feature_name='balance', feature_id=1, threshold=-0.2781466841697693, left=NodeInfo(id=22, is_leaf=True, value=[8.0, 1.0], value_ratio=[0.8888888888888888, 0.1111111111111111], impurity=0.19753086419753085, samples=9, sample_ratio=0.00024883875248838755, feature_name=None, feature_id=None, threshold=None, left=None, right=None), right=NodeInfo(id=23, is_leaf=True, value=[25.0, 0.0], value_ratio=[1.0, 0.0], impurity=0.0, samples=25, sample_ratio=0.0006912187569121876, feature_name=None, feature_id=None, threshold=None, left=None, right=None)), right=NodeInfo(id=24, is_leaf=False, value=[34.0, 10.0], value_ratio=[0.7727272727272727, 0.22727272727272727], impurity=0.35123966942148765, samples=44, sample_ratio=0.0012165450121654502, feature_name='day', feature_id=2, threshold=-0.21819373220205307, left=NodeInfo(id=25, is_leaf=True, value=[17.0, 9.0], value_ratio=[0.6538461538461539, 0.34615384615384615], impurity=0.4526627218934911, samples=26, sample_ratio=0.000718867507188675, feature_name=None, feature_id=None, threshold=None, left=None, right=None), right=NodeInfo(id=26, is_leaf=True, value=[17.0, 1.0], value_ratio=[0.9444444444444444, 0.05555555555555555], impurity=0.1049382716049383, samples=18, sample_ratio=0.0004976775049767751, feature_name=None, feature_id=None, threshold=None, left=None, right=None))), right=NodeInfo(id=27, is_leaf=False, value=[65.0, 56.0], value_ratio=[0.5371900826446281, 0.4628099173553719], impurity=0.4972337955057715, samples=121, sample_ratio=0.0033454987834549877, feature_name='duration', feature_id=3, threshold=-0.32803623378276825, left=NodeInfo(id=28, is_leaf=False, value=[52.0, 34.0], value_ratio=[0.6046511627906976, 0.3953488372093023], impurity=0.4780962682531098, samples=86, sample_ratio=0.002377792523777925, feature_name='age', feature_id=0, threshold=-0.695685476064682, left=NodeInfo(id=29, is_leaf=True, value=[26.0, 6.0], value_ratio=[0.8125, 0.1875], impurity=0.3046875, samples=32, sample_ratio=0.0008847600088476001, feature_name=None, feature_id=None, threshold=None, left=None, right=None), right=NodeInfo(id=30, is_leaf=True, value=[26.0, 28.0], value_ratio=[0.48148148148148145, 0.5185185185185185], impurity=0.4993141289437586, samples=54, sample_ratio=0.0014930325149303252, feature_name=None, feature_id=None, threshold=None, left=None, right=None)), right=NodeInfo(id=31, is_leaf=False, value=[13.0, 22.0], value_ratio=[0.37142857142857144, 0.6285714285714286], impurity=0.46693877551020413, samples=35, sample_ratio=0.0009677062596770625, feature_name='day', feature_id=2, threshold=-0.2782043069601059, left=NodeInfo(id=32, is_leaf=True, value=[2.0, 14.0], value_ratio=[0.125, 0.875], impurity=0.21875, samples=16, sample_ratio=0.00044238000442380006, feature_name=None, feature_id=None, threshold=None, left=None, right=None), right=NodeInfo(id=33, is_leaf=True, value=[11.0, 8.0], value_ratio=[0.5789473684210527, 0.42105263157894735], impurity=0.48753462603878117, samples=19, sample_ratio=0.0005253262552532625, feature_name=None, feature_id=None, threshold=None, left=None, right=None))))), right=NodeInfo(id=34, is_leaf=False, value=[9998.0, 1281.0], value_ratio=[0.8864261016047522, 0.1135738983952478], impurity=0.20134973599710748, samples=11279, sample_ratio=0.31185025436850256, feature_name='housing_yes', feature_id=6, threshold=0.5, left=NodeInfo(id=35, is_leaf=False, value=[3885.0, 920.0], value_ratio=[0.8085327783558793, 0.1914672216441207], impurity=0.3096150493600037, samples=4805, sample_ratio=0.13285224507852245, feature_name='age', feature_id=0, threshold=1.8450300097465515, left=NodeInfo(id=36, is_leaf=False, value=[3730.0, 772.0], value_ratio=[0.8285206574855619, 0.17147934251443803], impurity=0.2841483552105082, samples=4502, sample_ratio=0.12447467374474673, feature_name='month_apr', feature_id=7, threshold=0.5, left=NodeInfo(id=37, is_leaf=False, value=[3630.0, 667.0], value_ratio=[0.8447754247149174, 0.15522457528508263], impurity=0.26225981302529666, samples=4297, sample_ratio=0.1188066799380668, feature_name='pdays', feature_id=4, threshold=-0.2012479156255722, left=NodeInfo(id=38, is_leaf=True, value=[3316.0, 483.0], value_ratio=[0.8728612792840221, 0.1271387207159779], impurity=0.22194893282136496, samples=3799, sample_ratio=0.10503760230037602, feature_name=None, feature_id=None, threshold=None, left=None, right=None), right=NodeInfo(id=39, is_leaf=True, value=[314.0, 184.0], value_ratio=[0.6305220883534136, 0.36947791164658633], impurity=0.46592796890372734, samples=498, sample_ratio=0.013769077637690776, feature_name=None, feature_id=None, threshold=None, left=None, right=None)), right=NodeInfo(id=40, is_leaf=False, value=[100.0, 105.0], value_ratio=[0.4878048780487805, 0.5121951219512195], impurity=0.4997025580011898, samples=205, sample_ratio=0.005667993806679938, feature_name='pdays', feature_id=4, threshold=1.5359511971473694, left=NodeInfo(id=41, is_leaf=True, value=[76.0, 100.0], value_ratio=[0.4318181818181818, 0.5681818181818182], impurity=0.4907024793388429, samples=176, sample_ratio=0.004866180048661801, feature_name=None, feature_id=None, threshold=None, left=None, right=None), right=NodeInfo(id=42, is_leaf=True, value=[24.0, 5.0], value_ratio=[0.8275862068965517, 0.1724137931034483], impurity=0.2853745541022592, samples=29, sample_ratio=0.0008018137580181376, feature_name=None, feature_id=None, threshold=None, left=None, right=None))), right=NodeInfo(id=43, is_leaf=False, value=[155.0, 148.0], value_ratio=[0.5115511551155115, 0.4884488448844885], impurity=0.4997331416309948, samples=303, sample_ratio=0.008377571333775714, feature_name='pdays', feature_id=4, threshold=0.5325689315795898, left=NodeInfo(id=44, is_leaf=False, value=[118.0, 132.0], value_ratio=[0.472, 0.528], impurity=0.498432, samples=250, sample_ratio=0.006912187569121876, feature_name='balance', feature_id=1, threshold=-0.3286599665880203, left=NodeInfo(id=45, is_leaf=True, value=[37.0, 23.0], value_ratio=[0.6166666666666667, 0.38333333333333336], impurity=0.47277777777777774, samples=60, sample_ratio=0.0016589250165892503, feature_name=None, feature_id=None, threshold=None, left=None, right=None), right=NodeInfo(id=46, is_leaf=True, value=[81.0, 109.0], value_ratio=[0.4263157894736842, 0.5736842105263158], impurity=0.4891412742382272, samples=190, sample_ratio=0.005253262552532625, feature_name=None, feature_id=None, threshold=None, left=None, right=None)), right=NodeInfo(id=47, is_leaf=False, value=[37.0, 16.0], value_ratio=[0.6981132075471698, 0.3018867924528302], impurity=0.421502313990744, samples=53, sample_ratio=0.0014653837646538377, feature_name='duration', feature_id=3, threshold=0.4977758228778839, left=NodeInfo(id=48, is_leaf=True, value=[34.0, 10.0], value_ratio=[0.7727272727272727, 0.22727272727272727], impurity=0.35123966942148765, samples=44, sample_ratio=0.0012165450121654502, feature_name=None, feature_id=None, threshold=None, left=None, right=None), right=NodeInfo(id=49, is_leaf=True, value=[3.0, 6.0], value_ratio=[0.3333333333333333, 0.6666666666666666], impurity=0.4444444444444444, samples=9, sample_ratio=0.00024883875248838755, feature_name=None, feature_id=None, threshold=None, left=None, right=None)))), right=NodeInfo(id=50, is_leaf=False, value=[6113.0, 361.0], value_ratio=[0.9442384924312636, 0.05576150756873648], impurity=0.10530432368479647, samples=6474, sample_ratio=0.17899800928998008, feature_name='pdays', feature_id=4, threshold=3.3380457162857056, left=NodeInfo(id=51, is_leaf=False, value=[6104.0, 331.0], value_ratio=[0.9485625485625485, 0.05143745143745144], impurity=0.09758328005414252, samples=6435, sample_ratio=0.17791970802919707, feature_name='month_mar', feature_id=14, threshold=0.5, left=NodeInfo(id=52, is_leaf=False, value=[6096.0, 313.0], value_ratio=[0.9511624278358558, 0.04883757216414417], impurity=0.09290492741851242, samples=6409, sample_ratio=0.1772008405220084, feature_name='age', feature_id=0, threshold=2.033231198787689, left=NodeInfo(id=53, is_leaf=True, value=[6094.0, 304.0], value_ratio=[0.9524851516098781, 0.04751484839012191], impurity=0.09051437514517124, samples=6398, sample_ratio=0.17689670426896703, feature_name=None, feature_id=None, threshold=None, left=None, right=None), right=NodeInfo(id=54, is_leaf=True, value=[2.0, 9.0], value_ratio=[0.18181818181818182, 0.8181818181818182], impurity=0.2975206611570248, samples=11, sample_ratio=0.00030413625304136254, feature_name=None, feature_id=None, threshold=None, left=None, right=None)), right=NodeInfo(id=55, is_leaf=False, value=[8.0, 18.0], value_ratio=[0.3076923076923077, 0.6923076923076923], impurity=0.42603550295857984, samples=26, sample_ratio=0.000718867507188675, feature_name='day', feature_id=2, threshold=1.4621023535728455, left=NodeInfo(id=56, is_leaf=True, value=[2.0, 16.0], value_ratio=[0.1111111111111111, 0.8888888888888888], impurity=0.19753086419753085, samples=18, sample_ratio=0.0004976775049767751, feature_name=None, feature_id=None, threshold=None, left=None, right=None), right=NodeInfo(id=57, is_leaf=True, value=[6.0, 2.0], value_ratio=[0.75, 0.25], impurity=0.375, samples=8, sample_ratio=0.00022119000221190003, feature_name=None, feature_id=None, threshold=None, left=None, right=None))), right=NodeInfo(id=58, is_leaf=False, value=[9.0, 30.0], value_ratio=[0.23076923076923078, 0.7692307692307693], impurity=0.3550295857988166, samples=39, sample_ratio=0.0010783012607830126, feature_name='duration', feature_id=3, threshold=0.02505629602819681, left=NodeInfo(id=59, is_leaf=False, value=[7.0, 8.0], value_ratio=[0.4666666666666667, 0.5333333333333333], impurity=0.49777777777777776, samples=15, sample_ratio=0.00041473125414731257, feature_name='balance', feature_id=1, threshold=-0.12399976328015327, left=NodeInfo(id=60, is_leaf=True, value=[7.0, 2.0], value_ratio=[0.7777777777777778, 0.2222222222222222], impurity=0.345679012345679, samples=9, sample_ratio=0.00024883875248838755, feature_name=None, feature_id=None, threshold=None, left=None, right=None), right=NodeInfo(id=61, is_leaf=True, value=[0.0, 6.0], value_ratio=[0.0, 1.0], impurity=0.0, samples=6, sample_ratio=0.00016589250165892502, feature_name=None, feature_id=None, threshold=None, left=None, right=None)), right=NodeInfo(id=62, is_leaf=False, value=[2.0, 22.0], value_ratio=[0.08333333333333333, 0.9166666666666666], impurity=0.1527777777777778, samples=24, sample_ratio=0.0006635700066357001, feature_name='duration', feature_id=3, threshold=0.8778809309005737, left=NodeInfo(id=63, is_leaf=True, value=[1.0, 21.0], value_ratio=[0.045454545454545456, 0.9545454545454546], impurity=0.08677685950413228, samples=22, sample_ratio=0.0006082725060827251, feature_name=None, feature_id=None, threshold=None, left=None, right=None), right=NodeInfo(id=64, is_leaf=True, value=[1.0, 1.0], value_ratio=[0.5, 0.5], impurity=0.5, samples=2, sample_ratio=5.529750055297501e-05, feature_name=None, feature_id=None, threshold=None, left=None, right=None)))))), right=NodeInfo(id=65, is_leaf=False, value=[394.0, 641.0], value_ratio=[0.38067632850241545, 0.6193236714975845], impurity=0.471523722840673, samples=1035, sample_ratio=0.028616456536164566, feature_name='duration', feature_id=3, threshold=-0.4862525761127472, left=NodeInfo(id=66, is_leaf=False, value=[151.0, 45.0], value_ratio=[0.7704081632653061, 0.22959183673469388], impurity=0.35375885047896705, samples=196, sample_ratio=0.005419155054191551, feature_name='duration', feature_id=3, threshold=-0.6791993379592896, left=NodeInfo(id=67, is_leaf=False, value=[52.0, 5.0], value_ratio=[0.9122807017543859, 0.08771929824561403], impurity=0.16004924592182213, samples=57, sample_ratio=0.0015759787657597876, feature_name='balance', feature_id=1, threshold=4.352615833282471, left=NodeInfo(id=68, is_leaf=False, value=[52.0, 4.0], value_ratio=[0.9285714285714286, 0.07142857142857142], impurity=0.13265306122448983, samples=56, sample_ratio=0.0015483300154833, feature_name='pdays', feature_id=4, threshold=3.348029613494873, left=NodeInfo(id=69, is_leaf=False, value=[48.0, 2.0], value_ratio=[0.96, 0.04], impurity=0.07679999999999998, samples=50, sample_ratio=0.0013824375138243752, feature_name='month_feb', feature_id=10, threshold=0.5, left=NodeInfo(id=70, is_leaf=True, value=[46.0, 1.0], value_ratio=[0.9787234042553191, 0.02127659574468085], impurity=0.041647804436396596, samples=47, sample_ratio=0.0012994912629949126, feature_name=None, feature_id=None, threshold=None, left=None, right=None), right=NodeInfo(id=71, is_leaf=True, value=[2.0, 1.0], value_ratio=[0.6666666666666666, 0.3333333333333333], impurity=0.4444444444444444, samples=3, sample_ratio=8.294625082946251e-05, feature_name=None, feature_id=None, threshold=None, left=None, right=None)), right=NodeInfo(id=72, is_leaf=False, value=[4.0, 2.0], value_ratio=[0.6666666666666666, 0.3333333333333333], impurity=0.4444444444444444, samples=6, sample_ratio=0.00016589250165892502, feature_name='pdays', feature_id=4, threshold=3.7873213291168213, left=NodeInfo(id=73, is_leaf=True, value=[1.0, 2.0], value_ratio=[0.3333333333333333, 0.6666666666666666], impurity=0.4444444444444444, samples=3, sample_ratio=8.294625082946251e-05, feature_name=None, feature_id=None, threshold=None, left=None, right=None), right=NodeInfo(id=74, is_leaf=True, value=[3.0, 0.0], value_ratio=[1.0, 0.0], impurity=0.0, samples=3, sample_ratio=8.294625082946251e-05, feature_name=None, feature_id=None, threshold=None, left=None, right=None))), right=NodeInfo(id=75, is_leaf=True, value=[0.0, 1.0], value_ratio=[0.0, 1.0], impurity=0.0, samples=1, sample_ratio=2.7648750276487504e-05, feature_name=None, feature_id=None, threshold=None, left=None, right=None)), right=NodeInfo(id=76, is_leaf=False, value=[99.0, 40.0], value_ratio=[0.7122302158273381, 0.28776978417266186], impurity=0.4099166709797629, samples=139, sample_ratio=0.003843176288431763, feature_name='month_sep', feature_id=18, threshold=0.5, left=NodeInfo(id=77, is_leaf=False, value=[96.0, 32.0], value_ratio=[0.75, 0.25], impurity=0.375, samples=128, sample_ratio=0.0035390400353904005, feature_name='pdays', feature_id=4, threshold=0.6224240660667419, left=NodeInfo(id=78, is_leaf=False, value=[38.0, 22.0], value_ratio=[0.6333333333333333, 0.36666666666666664], impurity=0.46444444444444444, samples=60, sample_ratio=0.0016589250165892503, feature_name='pdays', feature_id=4, threshold=0.44770577549934387, left=NodeInfo(id=79, is_leaf=True, value=[16.0, 3.0], value_ratio=[0.8421052631578947, 0.15789473684210525], impurity=0.2659279778393352, samples=19, sample_ratio=0.0005253262552532625, feature_name=None, feature_id=None, threshold=None, left=None, right=None), right=NodeInfo(id=80, is_leaf=True, value=[22.0, 19.0], value_ratio=[0.5365853658536586, 0.4634146341463415], impurity=0.4973230220107079, samples=41, sample_ratio=0.0011335987613359875, feature_name=None, feature_id=None, threshold=None, left=None, right=None)), right=NodeInfo(id=81, is_leaf=False, value=[58.0, 10.0], value_ratio=[0.8529411764705882, 0.14705882352941177], impurity=0.25086505190311414, samples=68, sample_ratio=0.0018801150188011502, feature_name='balance', feature_id=1, threshold=-0.36434511840343475, left=NodeInfo(id=82, is_leaf=True, value=[7.0, 6.0], value_ratio=[0.5384615384615384, 0.46153846153846156], impurity=0.4970414201183432, samples=13, sample_ratio=0.0003594337535943375, feature_name=None, feature_id=None, threshold=None, left=None, right=None), right=NodeInfo(id=83, is_leaf=True, value=[51.0, 4.0], value_ratio=[0.9272727272727272, 0.07272727272727272], impurity=0.13487603305785123, samples=55, sample_ratio=0.0015206812652068127, feature_name=None, feature_id=None, threshold=None, left=None, right=None))), right=NodeInfo(id=84, is_leaf=False, value=[3.0, 8.0], value_ratio=[0.2727272727272727, 0.7272727272727273], impurity=0.39669421487603307, samples=11, sample_ratio=0.00030413625304136254, feature_name='pdays', feature_id=4, threshold=1.1266111731529236, left=NodeInfo(id=85, is_leaf=False, value=[1.0, 8.0], value_ratio=[0.1111111111111111, 0.8888888888888888], impurity=0.19753086419753085, samples=9, sample_ratio=0.00024883875248838755, feature_name='age', feature_id=0, threshold=-0.6015848964452744, left=NodeInfo(id=86, is_leaf=True, value=[1.0, 0.0], value_ratio=[1.0, 0.0], impurity=0.0, samples=1, sample_ratio=2.7648750276487504e-05, feature_name=None, feature_id=None, threshold=None, left=None, right=None), right=NodeInfo(id=87, is_leaf=True, value=[0.0, 8.0], value_ratio=[0.0, 1.0], impurity=0.0, samples=8, sample_ratio=0.00022119000221190003, feature_name=None, feature_id=None, threshold=None, left=None, right=None)), right=NodeInfo(id=88, is_leaf=True, value=[2.0, 0.0], value_ratio=[1.0, 0.0], impurity=0.0, samples=2, sample_ratio=5.529750055297501e-05, feature_name=None, feature_id=None, threshold=None, left=None, right=None)))), right=NodeInfo(id=89, is_leaf=False, value=[243.0, 596.0], value_ratio=[0.2896305125148987, 0.7103694874851013], impurity=0.41148935747051163, samples=839, sample_ratio=0.023197301481973014, feature_name='month_may', feature_id=15, threshold=0.5, left=NodeInfo(id=90, is_leaf=False, value=[185.0, 537.0], value_ratio=[0.2562326869806094, 0.7437673130193906], impurity=0.3811549942066129, samples=722, sample_ratio=0.019962397699623977, feature_name='duration', feature_id=3, threshold=-0.1698199138045311, left=NodeInfo(id=91, is_leaf=False, value=[86.0, 157.0], value_ratio=[0.35390946502057613, 0.6460905349794238], impurity=0.4573151111788515, samples=243, sample_ratio=0.006718646317186463, feature_name='balance', feature_id=1, threshold=0.40655243396759033, left=NodeInfo(id=92, is_leaf=False, value=[58.0, 130.0], value_ratio=[0.30851063829787234, 0.6914893617021277], impurity=0.42666364870982343, samples=188, sample_ratio=0.00519796505197965, feature_name='duration', feature_id=3, threshold=-0.37434346973896027, left=NodeInfo(id=93, is_leaf=True, value=[28.0, 32.0], value_ratio=[0.4666666666666667, 0.5333333333333333], impurity=0.49777777777777776, samples=60, sample_ratio=0.0016589250165892503, feature_name=None, feature_id=None, threshold=None, left=None, right=None), right=NodeInfo(id=94, is_leaf=True, value=[30.0, 98.0], value_ratio=[0.234375, 0.765625], impurity=0.35888671875, samples=128, sample_ratio=0.0035390400353904005, feature_name=None, feature_id=None, threshold=None, left=None, right=None)), right=NodeInfo(id=95, is_leaf=False, value=[28.0, 27.0], value_ratio=[0.509090909090909, 0.4909090909090909], impurity=0.4998347107438017, samples=55, sample_ratio=0.0015206812652068127, feature_name='month_sep', feature_id=18, threshold=0.5, left=NodeInfo(id=96, is_leaf=True, value=[28.0, 21.0], value_ratio=[0.5714285714285714, 0.42857142857142855], impurity=0.4897959183673469, samples=49, sample_ratio=0.0013547887635478877, feature_name=None, feature_id=None, threshold=None, left=None, right=None), right=NodeInfo(id=97, is_leaf=True, value=[0.0, 6.0], value_ratio=[0.0, 1.0], impurity=0.0, samples=6, sample_ratio=0.00016589250165892502, feature_name=None, feature_id=None, threshold=None, left=None, right=None))), right=NodeInfo(id=98, is_leaf=False, value=[99.0, 380.0], value_ratio=[0.20668058455114824, 0.7933194154488518], impurity=0.32792744104148774, samples=479, sample_ratio=0.013243751382437514, feature_name='month_nov', feature_id=16, threshold=0.5, left=NodeInfo(id=99, is_leaf=False, value=[84.0, 352.0], value_ratio=[0.1926605504587156, 0.8073394495412844], impurity=0.3110849255113206, samples=436, sample_ratio=0.012054855120548552, feature_name='duration', feature_id=3, threshold=0.5247883796691895, left=NodeInfo(id=100, is_leaf=True, value=[60.0, 289.0], value_ratio=[0.17191977077363896, 0.828080229226361], impurity=0.2847267263815568, samples=349, sample_ratio=0.009649413846494138, feature_name=None, feature_id=None, threshold=None, left=None, right=None), right=NodeInfo(id=101, is_leaf=True, value=[24.0, 63.0], value_ratio=[0.27586206896551724, 0.7241379310344828], impurity=0.3995243757431629, samples=87, sample_ratio=0.0024054412740544128, feature_name=None, feature_id=None, threshold=None, left=None, right=None)), right=NodeInfo(id=102, is_leaf=False, value=[15.0, 28.0], value_ratio=[0.3488372093023256, 0.6511627906976745], impurity=0.4542996214169821, samples=43, sample_ratio=0.0011888962618889626, feature_name='day', feature_id=2, threshold=0.2018803060054779, left=NodeInfo(id=103, is_leaf=True, value=[4.0, 23.0], value_ratio=[0.14814814814814814, 0.8518518518518519], impurity=0.25240054869684503, samples=27, sample_ratio=0.0007465162574651626, feature_name=None, feature_id=None, threshold=None, left=None, right=None), right=NodeInfo(id=104, is_leaf=True, value=[11.0, 5.0], value_ratio=[0.6875, 0.3125], impurity=0.4296875, samples=16, sample_ratio=0.00044238000442380006, feature_name=None, feature_id=None, threshold=None, left=None, right=None)))), right=NodeInfo(id=105, is_leaf=False, value=[58.0, 59.0], value_ratio=[0.49572649572649574, 0.5042735042735043], impurity=0.4999634743224487, samples=117, sample_ratio=0.003234903782349038, feature_name='housing_yes', feature_id=6, threshold=0.5, left=NodeInfo(id=106, is_leaf=False, value=[17.0, 42.0], value_ratio=[0.288135593220339, 0.711864406779661], impurity=0.4102269462798046, samples=59, sample_ratio=0.0016312762663127627, feature_name='duration', feature_id=3, threshold=0.09065819159150124, left=NodeInfo(id=107, is_leaf=False, value=[15.0, 22.0], value_ratio=[0.40540540540540543, 0.5945945945945946], impurity=0.48210372534696855, samples=37, sample_ratio=0.0010230037602300375, feature_name='day', feature_id=2, threshold=0.5019331872463226, left=NodeInfo(id=108, is_leaf=True, value=[6.0, 16.0], value_ratio=[0.2727272727272727, 0.7272727272727273], impurity=0.39669421487603307, samples=22, sample_ratio=0.0006082725060827251, feature_name=None, feature_id=None, threshold=None, left=None, right=None), right=NodeInfo(id=109, is_leaf=True, value=[9.0, 6.0], value_ratio=[0.6, 0.4], impurity=0.48, samples=15, sample_ratio=0.00041473125414731257, feature_name=None, feature_id=None, threshold=None, left=None, right=None)), right=NodeInfo(id=110, is_leaf=False, value=[2.0, 20.0], value_ratio=[0.09090909090909091, 0.9090909090909091], impurity=0.1652892561983471, samples=22, sample_ratio=0.0006082725060827251, feature_name='pdays', feature_id=4, threshold=0.43272992968559265, left=NodeInfo(id=111, is_leaf=True, value=[2.0, 1.0], value_ratio=[0.6666666666666666, 0.3333333333333333], impurity=0.4444444444444444, samples=3, sample_ratio=8.294625082946251e-05, feature_name=None, feature_id=None, threshold=None, left=None, right=None), right=NodeInfo(id=112, is_leaf=True, value=[0.0, 19.0], value_ratio=[0.0, 1.0], impurity=0.0, samples=19, sample_ratio=0.0005253262552532625, feature_name=None, feature_id=None, threshold=None, left=None, right=None))), right=NodeInfo(id=113, is_leaf=False, value=[41.0, 17.0], value_ratio=[0.7068965517241379, 0.29310344827586204], impurity=0.4143876337693222, samples=58, sample_ratio=0.0016036275160362752, feature_name='duration', feature_id=3, threshold=0.7833369970321655, left=NodeInfo(id=114, is_leaf=False, value=[41.0, 13.0], value_ratio=[0.7592592592592593, 0.24074074074074073], impurity=0.3655692729766804, samples=54, sample_ratio=0.0014930325149303252, feature_name='day', feature_id=2, threshold=0.5019331872463226, left=NodeInfo(id=115, is_leaf=True, value=[38.0, 8.0], value_ratio=[0.8260869565217391, 0.17391304347826086], impurity=0.2873345935727788, samples=46, sample_ratio=0.001271842512718425, feature_name=None, feature_id=None, threshold=None, left=None, right=None), right=NodeInfo(id=116, is_leaf=True, value=[3.0, 5.0], value_ratio=[0.375, 0.625], impurity=0.46875, samples=8, sample_ratio=0.00022119000221190003, feature_name=None, feature_id=None, threshold=None, left=None, right=None)), right=NodeInfo(id=117, is_leaf=True, value=[0.0, 4.0], value_ratio=[0.0, 1.0], impurity=0.0, samples=4, sample_ratio=0.00011059500110595002, feature_name=None, feature_id=None, threshold=None, left=None, right=None)))))), right=NodeInfo(id=118, is_leaf=False, value=[2227.0, 1761.0], value_ratio=[0.5584252758274825, 0.44157472417251753], impurity=0.4931729742889652, samples=3988, sample_ratio=0.11026321610263216, feature_name='duration', feature_id=3, threshold=2.1957072019577026, left=NodeInfo(id=119, is_leaf=False, value=[1628.0, 912.0], value_ratio=[0.6409448818897637, 0.3590551181102362], impurity=0.46026908053816107, samples=2540, sample_ratio=0.07022782570227826, feature_name='poutcome_success', feature_id=21, threshold=0.5, left=NodeInfo(id=120, is_leaf=False, value=[1608.0, 820.0], value_ratio=[0.6622734761120264, 0.33772652388797364], impurity=0.4473346379010392, samples=2428, sample_ratio=0.06713116567131165, feature_name='contact_unknown', feature_id=25, threshold=0.5, left=NodeInfo(id=121, is_leaf=False, value=[1070.0, 668.0], value_ratio=[0.6156501726121979, 0.38434982738780205], impurity=0.47325007514953765, samples=1738, sample_ratio=0.04805352798053528, feature_name='duration', feature_id=3, threshold=1.447073757648468, left=NodeInfo(id=122, is_leaf=False, value=[607.0, 282.0], value_ratio=[0.6827896512935883, 0.3172103487064117], impurity=0.4331758867599368, samples=889, sample_ratio=0.02457973899579739, feature_name='month_jun', feature_id=13, threshold=0.5, left=NodeInfo(id=123, is_leaf=False, value=[602.0, 267.0], value_ratio=[0.6927502876869965, 0.30724971231300346], impurity=0.42569465319316013, samples=869, sample_ratio=0.02402676399026764, feature_name='age', feature_id=0, threshold=2.080281436443329, left=NodeInfo(id=124, is_leaf=True, value=[591.0, 250.0], value_ratio=[0.7027348394768134, 0.2972651605231867], impurity=0.41779716972462144, samples=841, sample_ratio=0.02325259898252599, feature_name=None, feature_id=None, threshold=None, left=None, right=None), right=NodeInfo(id=125, is_leaf=True, value=[11.0, 17.0], value_ratio=[0.39285714285714285, 0.6071428571428571], impurity=0.4770408163265306, samples=28, sample_ratio=0.00077416500774165, feature_name=None, feature_id=None, threshold=None, left=None, right=None)), right=NodeInfo(id=126, is_leaf=False, value=[5.0, 15.0], value_ratio=[0.25, 0.75], impurity=0.375, samples=20, sample_ratio=0.0005529750055297501, feature_name='day', feature_id=2, threshold=-1.1183523535728455, left=NodeInfo(id=127, is_leaf=True, value=[0.0, 10.0], value_ratio=[0.0, 1.0], impurity=0.0, samples=10, sample_ratio=0.00027648750276487504, feature_name=None, feature_id=None, threshold=None, left=None, right=None), right=NodeInfo(id=128, is_leaf=True, value=[5.0, 5.0], value_ratio=[0.5, 0.5], impurity=0.5, samples=10, sample_ratio=0.00027648750276487504, feature_name=None, feature_id=None, threshold=None, left=None, right=None))), right=NodeInfo(id=129, is_leaf=False, value=[463.0, 386.0], value_ratio=[0.5453474676089517, 0.4546525323910483], impurity=0.49588721436291017, samples=849, sample_ratio=0.02347378898473789, feature_name='day', feature_id=2, threshold=-0.038162000477313995, left=NodeInfo(id=130, is_leaf=False, value=[194.0, 206.0], value_ratio=[0.485, 0.515], impurity=0.49955000000000005, samples=400, sample_ratio=0.011059500110595002, feature_name='balance', feature_id=1, threshold=0.31676919758319855, left=NodeInfo(id=131, is_leaf=True, value=[162.0, 147.0], value_ratio=[0.5242718446601942, 0.47572815533980584], impurity=0.49882175511358284, samples=309, sample_ratio=0.008543463835434638, feature_name=None, feature_id=None, threshold=None, left=None, right=None), right=NodeInfo(id=132, is_leaf=True, value=[32.0, 59.0], value_ratio=[0.3516483516483517, 0.6483516483516484], impurity=0.45598357686269775, samples=91, sample_ratio=0.002516036275160363, feature_name=None, feature_id=None, threshold=None, left=None, right=None)), right=NodeInfo(id=133, is_leaf=False, value=[269.0, 180.0], value_ratio=[0.5991091314031181, 0.40089086859688194], impurity=0.480354760145039, samples=449, sample_ratio=0.012414288874142889, feature_name='housing_yes', feature_id=6, threshold=0.5, left=NodeInfo(id=134, is_leaf=True, value=[111.0, 105.0], value_ratio=[0.5138888888888888, 0.4861111111111111], impurity=0.4996141975308642, samples=216, sample_ratio=0.005972130059721301, feature_name=None, feature_id=None, threshold=None, left=None, right=None), right=NodeInfo(id=135, is_leaf=True, value=[158.0, 75.0], value_ratio=[0.6781115879828327, 0.3218884120171674], impurity=0.4365525244524674, samples=233, sample_ratio=0.006442158814421588, feature_name=None, feature_id=None, threshold=None, left=None, right=None)))), right=NodeInfo(id=136, is_leaf=False, value=[538.0, 152.0], value_ratio=[0.7797101449275362, 0.22028985507246376], impurity=0.34352446964923333, samples=690, sample_ratio=0.01907763769077638, feature_name='duration', feature_id=3, threshold=1.5049578547477722, left=NodeInfo(id=137, is_leaf=False, value=[316.0, 58.0], value_ratio=[0.8449197860962567, 0.15508021390374332], impurity=0.2620606823186251, samples=374, sample_ratio=0.010340632603406326, feature_name='age', feature_id=0, threshold=0.43352140486240387, left=NodeInfo(id=138, is_leaf=False, value=[220.0, 50.0], value_ratio=[0.8148148148148148, 0.18518518518518517], impurity=0.30178326474622774, samples=270, sample_ratio=0.007465162574651626, feature_name='month_may', feature_id=15, threshold=0.5, left=NodeInfo(id=139, is_leaf=True, value=[68.0, 26.0], value_ratio=[0.723404255319149, 0.2765957446808511], impurity=0.40018107741059306, samples=94, sample_ratio=0.002598982525989825, feature_name=None, feature_id=None, threshold=None, left=None, right=None), right=NodeInfo(id=140, is_leaf=True, value=[152.0, 24.0], value_ratio=[0.8636363636363636, 0.13636363636363635], impurity=0.23553719008264462, samples=176, sample_ratio=0.004866180048661801, feature_name=None, feature_id=None, threshold=None, left=None, right=None)), right=NodeInfo(id=141, is_leaf=False, value=[96.0, 8.0], value_ratio=[0.9230769230769231, 0.07692307692307693], impurity=0.14201183431952658, samples=104, sample_ratio=0.0028754700287547, feature_name='duration', feature_id=3, threshold=1.4779452681541443, left=NodeInfo(id=142, is_leaf=True, value=[93.0, 6.0], value_ratio=[0.9393939393939394, 0.06060606060606061], impurity=0.1138659320477502, samples=99, sample_ratio=0.002737226277372263, feature_name=None, feature_id=None, threshold=None, left=None, right=None), right=NodeInfo(id=143, is_leaf=True, value=[3.0, 2.0], value_ratio=[0.6, 0.4], impurity=0.48, samples=5, sample_ratio=0.00013824375138243752, feature_name=None, feature_id=None, threshold=None, left=None, right=None))), right=NodeInfo(id=144, is_leaf=False, value=[222.0, 94.0], value_ratio=[0.7025316455696202, 0.2974683544303797], impurity=0.4179618650857234, samples=316, sample_ratio=0.008737005087370051, feature_name='age', feature_id=0, threshold=-0.695685476064682, left=NodeInfo(id=145, is_leaf=False, value=[64.0, 43.0], value_ratio=[0.5981308411214953, 0.40186915887850466], impurity=0.48074067604157567, samples=107, sample_ratio=0.002958416279584163, feature_name='duration', feature_id=3, threshold=2.149399995803833, left=NodeInfo(id=146, is_leaf=True, value=[58.0, 43.0], value_ratio=[0.5742574257425742, 0.42574257425742573], impurity=0.48897166944417214, samples=101, sample_ratio=0.002792523777925238, feature_name=None, feature_id=None, threshold=None, left=None, right=None), right=NodeInfo(id=147, is_leaf=True, value=[6.0, 0.0], value_ratio=[1.0, 0.0], impurity=0.0, samples=6, sample_ratio=0.00016589250165892502, feature_name=None, feature_id=None, threshold=None, left=None, right=None)), right=NodeInfo(id=148, is_leaf=False, value=[158.0, 51.0], value_ratio=[0.7559808612440191, 0.24401913875598086], impurity=0.36894759735354044, samples=209, sample_ratio=0.005778588807785888, feature_name='balance', feature_id=1, threshold=-0.42707933485507965, left=NodeInfo(id=149, is_leaf=True, value=[37.0, 4.0], value_ratio=[0.9024390243902439, 0.0975609756097561], impurity=0.17608566329565734, samples=41, sample_ratio=0.0011335987613359875, feature_name=None, feature_id=None, threshold=None, left=None, right=None), right=NodeInfo(id=150, is_leaf=True, value=[121.0, 47.0], value_ratio=[0.7202380952380952, 0.27976190476190477], impurity=0.40299036281179135, samples=168, sample_ratio=0.0046449900464499, feature_name=None, feature_id=None, threshold=None, left=None, right=None))))), right=NodeInfo(id=151, is_leaf=False, value=[20.0, 92.0], value_ratio=[0.17857142857142858, 0.8214285714285714], impurity=0.29336734693877553, samples=112, sample_ratio=0.0030966600309666, feature_name='housing_no', feature_id=5, threshold=0.5, left=NodeInfo(id=152, is_leaf=False, value=[15.0, 33.0], value_ratio=[0.3125, 0.6875], impurity=0.4296875, samples=48, sample_ratio=0.0013271400132714001, feature_name='month_jul', feature_id=12, threshold=0.5, left=NodeInfo(id=153, is_leaf=False, value=[13.0, 33.0], value_ratio=[0.2826086956521739, 0.717391304347826], impurity=0.4054820415879017, samples=46, sample_ratio=0.001271842512718425, feature_name='day', feature_id=2, threshold=0.32190145552158356, left=NodeInfo(id=154, is_leaf=False, value=[12.0, 20.0], value_ratio=[0.375, 0.625], impurity=0.46875, samples=32, sample_ratio=0.0008847600088476001, feature_name='day', feature_id=2, threshold=-1.3583946824073792, left=NodeInfo(id=155, is_leaf=True, value=[0.0, 4.0], value_ratio=[0.0, 1.0], impurity=0.0, samples=4, sample_ratio=0.00011059500110595002, feature_name=None, feature_id=None, threshold=None, left=None, right=None), right=NodeInfo(id=156, is_leaf=True, value=[12.0, 16.0], value_ratio=[0.42857142857142855, 0.5714285714285714], impurity=0.4897959183673469, samples=28, sample_ratio=0.00077416500774165, feature_name=None, feature_id=None, threshold=None, left=None, right=None)), right=NodeInfo(id=157, is_leaf=False, value=[1.0, 13.0], value_ratio=[0.07142857142857142, 0.9285714285714286], impurity=0.13265306122448983, samples=14, sample_ratio=0.000387082503870825, feature_name='month_oct', feature_id=17, threshold=0.5, left=NodeInfo(id=158, is_leaf=True, value=[0.0, 12.0], value_ratio=[0.0, 1.0], impurity=0.0, samples=12, sample_ratio=0.00033178500331785003, feature_name=None, feature_id=None, threshold=None, left=None, right=None), right=NodeInfo(id=159, is_leaf=True, value=[1.0, 1.0], value_ratio=[0.5, 0.5], impurity=0.5, samples=2, sample_ratio=5.529750055297501e-05, feature_name=None, feature_id=None, threshold=None, left=None, right=None))), right=NodeInfo(id=160, is_leaf=True, value=[2.0, 0.0], value_ratio=[1.0, 0.0], impurity=0.0, samples=2, sample_ratio=5.529750055297501e-05, feature_name=None, feature_id=None, threshold=None, left=None, right=None)), right=NodeInfo(id=161, is_leaf=False, value=[5.0, 59.0], value_ratio=[0.078125, 0.921875], impurity=0.14404296875, samples=64, sample_ratio=0.0017695200176952002, feature_name='day', feature_id=2, threshold=1.762155294418335, left=NodeInfo(id=162, is_leaf=False, value=[3.0, 59.0], value_ratio=[0.04838709677419355, 0.9516129032258065], impurity=0.09209157127991674, samples=62, sample_ratio=0.0017142225171422251, feature_name='day', feature_id=2, threshold=-1.718458116054535, left=NodeInfo(id=163, is_leaf=False, value=[1.0, 1.0], value_ratio=[0.5, 0.5], impurity=0.5, samples=2, sample_ratio=5.529750055297501e-05, feature_name='balance', feature_id=1, threshold=1.8865910023450851, left=NodeInfo(id=164, is_leaf=True, value=[1.0, 0.0], value_ratio=[1.0, 0.0], impurity=0.0, samples=1, sample_ratio=2.7648750276487504e-05, feature_name=None, feature_id=None, threshold=None, left=None, right=None), right=NodeInfo(id=165, is_leaf=True, value=[0.0, 1.0], value_ratio=[0.0, 1.0], impurity=0.0, samples=1, sample_ratio=2.7648750276487504e-05, feature_name=None, feature_id=None, threshold=None, left=None, right=None)), right=NodeInfo(id=166, is_leaf=False, value=[2.0, 58.0], value_ratio=[0.03333333333333333, 0.9666666666666667], impurity=0.06444444444444442, samples=60, sample_ratio=0.0016589250165892503, feature_name='month_may', feature_id=15, threshold=0.5, left=NodeInfo(id=167, is_leaf=True, value=[0.0, 49.0], value_ratio=[0.0, 1.0], impurity=0.0, samples=49, sample_ratio=0.0013547887635478877, feature_name=None, feature_id=None, threshold=None, left=None, right=None), right=NodeInfo(id=168, is_leaf=True, value=[2.0, 9.0], value_ratio=[0.18181818181818182, 0.8181818181818182], impurity=0.2975206611570248, samples=11, sample_ratio=0.00030413625304136254, feature_name=None, feature_id=None, threshold=None, left=None, right=None))), right=NodeInfo(id=169, is_leaf=True, value=[2.0, 0.0], value_ratio=[1.0, 0.0], impurity=0.0, samples=2, sample_ratio=5.529750055297501e-05, feature_name=None, feature_id=None, threshold=None, left=None, right=None)))), right=NodeInfo(id=170, is_leaf=False, value=[599.0, 849.0], value_ratio=[0.4136740331491713, 0.5863259668508287], impurity=0.4850956548945392, samples=1448, sample_ratio=0.04003539040035391, feature_name='contact_cellular', feature_id=23, threshold=0.5, left=NodeInfo(id=171, is_leaf=False, value=[237.0, 239.0], value_ratio=[0.49789915966386555, 0.5021008403361344], impurity=0.49999117293976414, samples=476, sample_ratio=0.013160805131608052, feature_name='balance', feature_id=1, threshold=-0.17891257256269455, left=NodeInfo(id=172, is_leaf=False, value=[157.0, 123.0], value_ratio=[0.5607142857142857, 0.4392857142857143], impurity=0.4926275510204081, samples=280, sample_ratio=0.0077416500774165, feature_name='day', feature_id=2, threshold=1.6421341300010681, left=NodeInfo(id=173, is_leaf=False, value=[155.0, 113.0], value_ratio=[0.5783582089552238, 0.4216417910447761], impurity=0.487719982178659, samples=268, sample_ratio=0.007409865074098651, feature_name='month_jun', feature_id=13, threshold=0.5, left=NodeInfo(id=174, is_leaf=False, value=[119.0, 70.0], value_ratio=[0.6296296296296297, 0.37037037037037035], impurity=0.46639231824417005, samples=189, sample_ratio=0.005225613802256138, feature_name='duration', feature_id=3, threshold=2.880668044090271, left=NodeInfo(id=175, is_leaf=True, value=[57.0, 21.0], value_ratio=[0.7307692307692307, 0.2692307692307692], impurity=0.39349112426035504, samples=78, sample_ratio=0.0021566025215660253, feature_name=None, feature_id=None, threshold=None, left=None, right=None), right=NodeInfo(id=176, is_leaf=True, value=[62.0, 49.0], value_ratio=[0.5585585585585585, 0.44144144144144143], impurity=0.4931417904390878, samples=111, sample_ratio=0.0030690112806901126, feature_name=None, feature_id=None, threshold=None, left=None, right=None)), right=NodeInfo(id=177, is_leaf=False, value=[36.0, 43.0], value_ratio=[0.45569620253164556, 0.5443037974683544], impurity=0.49607434705976605, samples=79, sample_ratio=0.002184251271842513, feature_name='balance', feature_id=1, threshold=-0.45575784146785736, left=NodeInfo(id=178, is_leaf=True, value=[1.0, 10.0], value_ratio=[0.09090909090909091, 0.9090909090909091], impurity=0.1652892561983471, samples=11, sample_ratio=0.00030413625304136254, feature_name=None, feature_id=None, threshold=None, left=None, right=None), right=NodeInfo(id=179, is_leaf=True, value=[35.0, 33.0], value_ratio=[0.5147058823529411, 0.4852941176470588], impurity=0.4995674740484429, samples=68, sample_ratio=0.0018801150188011502, feature_name=None, feature_id=None, threshold=None, left=None, right=None))), right=NodeInfo(id=180, is_leaf=False, value=[2.0, 10.0], value_ratio=[0.16666666666666666, 0.8333333333333334], impurity=0.2777777777777778, samples=12, sample_ratio=0.00033178500331785003, feature_name='duration', feature_id=3, threshold=2.394442319869995, left=NodeInfo(id=181, is_leaf=True, value=[1.0, 0.0], value_ratio=[1.0, 0.0], impurity=0.0, samples=1, sample_ratio=2.7648750276487504e-05, feature_name=None, feature_id=None, threshold=None, left=None, right=None), right=NodeInfo(id=182, is_leaf=False, value=[1.0, 10.0], value_ratio=[0.09090909090909091, 0.9090909090909091], impurity=0.1652892561983471, samples=11, sample_ratio=0.00030413625304136254, feature_name='duration', feature_id=3, threshold=4.920115232467651, left=NodeInfo(id=183, is_leaf=True, value=[0.0, 9.0], value_ratio=[0.0, 1.0], impurity=0.0, samples=9, sample_ratio=0.00024883875248838755, feature_name=None, feature_id=None, threshold=None, left=None, right=None), right=NodeInfo(id=184, is_leaf=True, value=[1.0, 1.0], value_ratio=[0.5, 0.5], impurity=0.5, samples=2, sample_ratio=5.529750055297501e-05, feature_name=None, feature_id=None, threshold=None, left=None, right=None)))), right=NodeInfo(id=185, is_leaf=False, value=[80.0, 116.0], value_ratio=[0.40816326530612246, 0.5918367346938775], impurity=0.4831320283215327, samples=196, sample_ratio=0.005419155054191551, feature_name='balance', feature_id=1, threshold=2.4894912242889404, left=NodeInfo(id=186, is_leaf=False, value=[71.0, 113.0], value_ratio=[0.3858695652173913, 0.6141304347826086], impurity=0.4739484877126654, samples=184, sample_ratio=0.0050873700508737, feature_name='age', feature_id=0, threshold=-1.0720877647399902, left=NodeInfo(id=187, is_leaf=False, value=[9.0, 4.0], value_ratio=[0.6923076923076923, 0.3076923076923077], impurity=0.42603550295857984, samples=13, sample_ratio=0.0003594337535943375, feature_name='duration', feature_id=3, threshold=3.8396135568618774, left=NodeInfo(id=188, is_leaf=True, value=[8.0, 1.0], value_ratio=[0.8888888888888888, 0.1111111111111111], impurity=0.19753086419753085, samples=9, sample_ratio=0.00024883875248838755, feature_name=None, feature_id=None, threshold=None, left=None, right=None), right=NodeInfo(id=189, is_leaf=True, value=[1.0, 3.0], value_ratio=[0.25, 0.75], impurity=0.375, samples=4, sample_ratio=0.00011059500110595002, feature_name=None, feature_id=None, threshold=None, left=None, right=None)), right=NodeInfo(id=190, is_leaf=False, value=[62.0, 109.0], value_ratio=[0.36257309941520466, 0.6374269005847953], impurity=0.4622276939913136, samples=171, sample_ratio=0.004727936297279363, feature_name='month_jan', feature_id=11, threshold=0.5, left=NodeInfo(id=191, is_leaf=True, value=[60.0, 109.0], value_ratio=[0.35502958579881655, 0.6449704142011834], impurity=0.4579671580126746, samples=169, sample_ratio=0.004672638796726388, feature_name=None, feature_id=None, threshold=None, left=None, right=None), right=NodeInfo(id=192, is_leaf=True, value=[2.0, 0.0], value_ratio=[1.0, 0.0], impurity=0.0, samples=2, sample_ratio=5.529750055297501e-05, feature_name=None, feature_id=None, threshold=None, left=None, right=None))), right=NodeInfo(id=193, is_leaf=False, value=[9.0, 3.0], value_ratio=[0.75, 0.25], impurity=0.375, samples=12, sample_ratio=0.00033178500331785003, feature_name='duration', feature_id=3, threshold=3.839613437652588, left=NodeInfo(id=194, is_leaf=True, value=[8.0, 0.0], value_ratio=[1.0, 0.0], impurity=0.0, samples=8, sample_ratio=0.00022119000221190003, feature_name=None, feature_id=None, threshold=None, left=None, right=None), right=NodeInfo(id=195, is_leaf=False, value=[1.0, 3.0], value_ratio=[0.25, 0.75], impurity=0.375, samples=4, sample_ratio=0.00011059500110595002, feature_name='contact_telephone', feature_id=24, threshold=0.5, left=NodeInfo(id=196, is_leaf=True, value=[0.0, 3.0], value_ratio=[0.0, 1.0], impurity=0.0, samples=3, sample_ratio=8.294625082946251e-05, feature_name=None, feature_id=None, threshold=None, left=None, right=None), right=NodeInfo(id=197, is_leaf=True, value=[1.0, 0.0], value_ratio=[1.0, 0.0], impurity=0.0, samples=1, sample_ratio=2.7648750276487504e-05, feature_name=None, feature_id=None, threshold=None, left=None, right=None))))), right=NodeInfo(id=198, is_leaf=False, value=[362.0, 610.0], value_ratio=[0.3724279835390947, 0.6275720164609053], impurity=0.467450761232197, samples=972, sample_ratio=0.02687458526874585, feature_name='age', feature_id=0, threshold=1.280426561832428, left=NodeInfo(id=199, is_leaf=False, value=[294.0, 542.0], value_ratio=[0.35167464114832536, 0.6483253588516746], impurity=0.45599917584304384, samples=836, sample_ratio=0.023114355231143552, feature_name='poutcome_success', feature_id=21, threshold=0.5, left=NodeInfo(id=200, is_leaf=False, value=[288.0, 509.0], value_ratio=[0.3613550815558344, 0.6386449184441656], impurity=0.46155517317922135, samples=797, sample_ratio=0.02203605397036054, feature_name='pdays', feature_id=4, threshold=0.8370780050754547, left=NodeInfo(id=201, is_leaf=False, value=[233.0, 448.0], value_ratio=[0.342143906020558, 0.657856093979442], impurity=0.45016290718710716, samples=681, sample_ratio=0.01882879893828799, feature_name='duration', feature_id=3, threshold=3.7161275148391724, left=NodeInfo(id=202, is_leaf=True, value=[181.0, 302.0], value_ratio=[0.3747412008281574, 0.6252587991718427], impurity=0.46862046646005595, samples=483, sample_ratio=0.013354346383543464, feature_name=None, feature_id=None, threshold=None, left=None, right=None), right=NodeInfo(id=203, is_leaf=True, value=[52.0, 146.0], value_ratio=[0.26262626262626265, 0.7373737373737373], impurity=0.38730741761044796, samples=198, sample_ratio=0.005474452554744526, feature_name=None, feature_id=None, threshold=None, left=None, right=None)), right=NodeInfo(id=204, is_leaf=False, value=[55.0, 61.0], value_ratio=[0.47413793103448276, 0.5258620689655172], impurity=0.49866230677764567, samples=116, sample_ratio=0.0032072550320725503, feature_name='pdays', feature_id=4, threshold=1.3013294339179993, left=NodeInfo(id=205, is_leaf=True, value=[16.0, 5.0], value_ratio=[0.7619047619047619, 0.23809523809523808], impurity=0.36281179138321995, samples=21, sample_ratio=0.0005806237558062375, feature_name=None, feature_id=None, threshold=None, left=None, right=None), right=NodeInfo(id=206, is_leaf=True, value=[39.0, 56.0], value_ratio=[0.4105263157894737, 0.5894736842105263], impurity=0.48398891966759006, samples=95, sample_ratio=0.0026266312762663127, feature_name=None, feature_id=None, threshold=None, left=None, right=None))), right=NodeInfo(id=207, is_leaf=False, value=[6.0, 33.0], value_ratio=[0.15384615384615385, 0.8461538461538461], impurity=0.2603550295857988, samples=39, sample_ratio=0.0010783012607830126, feature_name='day', feature_id=2, threshold=-0.9383206069469452, left=NodeInfo(id=208, is_leaf=False, value=[6.0, 9.0], value_ratio=[0.4, 0.6], impurity=0.48, samples=15, sample_ratio=0.00041473125414731257, feature_name='balance', feature_id=1, threshold=-0.16913581266999245, left=NodeInfo(id=209, is_leaf=True, value=[0.0, 4.0], value_ratio=[0.0, 1.0], impurity=0.0, samples=4, sample_ratio=0.00011059500110595002, feature_name=None, feature_id=None, threshold=None, left=None, right=None), right=NodeInfo(id=210, is_leaf=True, value=[6.0, 5.0], value_ratio=[0.5454545454545454, 0.45454545454545453], impurity=0.49586776859504134, samples=11, sample_ratio=0.00030413625304136254, feature_name=None, feature_id=None, threshold=None, left=None, right=None)), right=NodeInfo(id=211, is_leaf=True, value=[0.0, 24.0], value_ratio=[0.0, 1.0], impurity=0.0, samples=24, sample_ratio=0.0006635700066357001, feature_name=None, feature_id=None, threshold=None, left=None, right=None))), right=NodeInfo(id=212, is_leaf=False, value=[68.0, 68.0], value_ratio=[0.5, 0.5], impurity=0.5, samples=136, sample_ratio=0.0037602300376023004, feature_name='day', feature_id=2, threshold=0.8019860684871674, left=NodeInfo(id=213, is_leaf=False, value=[51.0, 61.0], value_ratio=[0.45535714285714285, 0.5446428571428571], impurity=0.4960140306122449, samples=112, sample_ratio=0.0030966600309666, feature_name='month_nov', feature_id=16, threshold=0.5, left=NodeInfo(id=214, is_leaf=False, value=[39.0, 56.0], value_ratio=[0.4105263157894737, 0.5894736842105263], impurity=0.48398891966759006, samples=95, sample_ratio=0.0026266312762663127, feature_name='pdays', feature_id=4, threshold=1.4460960626602173, left=NodeInfo(id=215, is_leaf=True, value=[30.0, 53.0], value_ratio=[0.3614457831325301, 0.6385542168674698], impurity=0.4616054579764842, samples=83, sample_ratio=0.0022948462729484626, feature_name=None, feature_id=None, threshold=None, left=None, right=None), right=NodeInfo(id=216, is_leaf=True, value=[9.0, 3.0], value_ratio=[0.75, 0.25], impurity=0.375, samples=12, sample_ratio=0.00033178500331785003, feature_name=None, feature_id=None, threshold=None, left=None, right=None)), right=NodeInfo(id=217, is_leaf=False, value=[12.0, 5.0], value_ratio=[0.7058823529411765, 0.29411764705882354], impurity=0.4152249134948097, samples=17, sample_ratio=0.00047002875470028755, feature_name='age', feature_id=0, threshold=2.4096333980560303, left=NodeInfo(id=218, is_leaf=True, value=[12.0, 3.0], value_ratio=[0.8, 0.2], impurity=0.31999999999999995, samples=15, sample_ratio=0.00041473125414731257, feature_name=None, feature_id=None, threshold=None, left=None, right=None), right=NodeInfo(id=219, is_leaf=True, value=[0.0, 2.0], value_ratio=[0.0, 1.0], impurity=0.0, samples=2, sample_ratio=5.529750055297501e-05, feature_name=None, feature_id=None, threshold=None, left=None, right=None))), right=NodeInfo(id=220, is_leaf=False, value=[17.0, 7.0], value_ratio=[0.7083333333333334, 0.2916666666666667], impurity=0.4131944444444444, samples=24, sample_ratio=0.0006635700066357001, feature_name='month_aug', feature_id=8, threshold=0.5, left=NodeInfo(id=221, is_leaf=False, value=[17.0, 5.0], value_ratio=[0.7727272727272727, 0.22727272727272727], impurity=0.35123966942148765, samples=22, sample_ratio=0.0006082725060827251, feature_name='balance', feature_id=1, threshold=-0.456572562456131, left=NodeInfo(id=222, is_leaf=True, value=[1.0, 2.0], value_ratio=[0.3333333333333333, 0.6666666666666666], impurity=0.4444444444444444, samples=3, sample_ratio=8.294625082946251e-05, feature_name=None, feature_id=None, threshold=None, left=None, right=None), right=NodeInfo(id=223, is_leaf=True, value=[16.0, 3.0], value_ratio=[0.8421052631578947, 0.15789473684210525], impurity=0.2659279778393352, samples=19, sample_ratio=0.0005253262552532625, feature_name=None, feature_id=None, threshold=None, left=None, right=None)), right=NodeInfo(id=224, is_leaf=True, value=[0.0, 2.0], value_ratio=[0.0, 1.0], impurity=0.0, samples=2, sample_ratio=5.529750055297501e-05, feature_name=None, feature_id=None, threshold=None, left=None, right=None))))))), graphviz='digraph Tree {\\nnode [shape=box] ;\\n0 [label=\"duration <= 1.015\\\\ngini = 0.207\\\\nsamples = 100.0%\\\\nvalue = [0.883, 0.117]\"] ;\\n1 [label=\"poutcome_success <= 0.5\\\\ngini = 0.142\\\\nsamples = 89.0%\\\\nvalue = [0.923, 0.077]\"] ;\\n0 -> 1 [labeldistance=2.5, labelangle=45, headlabel=\"True\"] ;\\n2 [label=\"duration <= -0.205\\\\ngini = 0.111\\\\nsamples = 86.1%\\\\nvalue = [0.941, 0.059]\"] ;\\n1 -> 2 ;\\n3 [label=\"month_mar <= 0.5\\\\ngini = 0.054\\\\nsamples = 54.9%\\\\nvalue = [0.972, 0.028]\"] ;\\n2 -> 3 ;\\n4 [label=\"month_oct <= 0.5\\\\ngini = 0.048\\\\nsamples = 54.4%\\\\nvalue = [0.976, 0.024]\"] ;\\n3 -> 4 ;\\n5 [label=\"age <= 2.598\\\\ngini = 0.042\\\\nsamples = 53.7%\\\\nvalue = [0.978, 0.022]\"] ;\\n4 -> 5 ;\\n6 [label=\"month_apr <= 0.5\\\\ngini = 0.039\\\\nsamples = 53.3%\\\\nvalue = [0.98, 0.02]\"] ;\\n5 -> 6 ;\\n7 [label=\"gini = 0.033\\\\nsamples = 50.4%\\\\nvalue = [0.983, 0.017]\"] ;\\n6 -> 7 ;\\n8 [label=\"gini = 0.149\\\\nsamples = 2.9%\\\\nvalue = [0.919, 0.081]\"] ;\\n6 -> 8 ;\\n9 [label=\"month_feb <= 0.5\\\\ngini = 0.357\\\\nsamples = 0.4%\\\\nvalue = [0.768, 0.232]\"] ;\\n5 -> 9 ;\\n10 [label=\"gini = 0.299\\\\nsamples = 0.3%\\\\nvalue = [0.817, 0.183]\"] ;\\n9 -> 10 ;\\n11 [label=\"gini = 0.5\\\\nsamples = 0.1%\\\\nvalue = [0.5, 0.5]\"] ;\\n9 -> 11 ;\\n12 [label=\"duration <= -0.629\\\\ngini = 0.36\\\\nsamples = 0.7%\\\\nvalue = [0.764, 0.236]\"] ;\\n4 -> 12 ;\\n13 [label=\"duration <= -0.695\\\\ngini = 0.044\\\\nsamples = 0.2%\\\\nvalue = [0.977, 0.023]\"] ;\\n12 -> 13 ;\\n14 [label=\"gini = 0.0\\\\nsamples = 0.2%\\\\nvalue = [1.0, 0.0]\"] ;\\n13 -> 14 ;\\n15 [label=\"gini = 0.114\\\\nsamples = 0.1%\\\\nvalue = [0.939, 0.061]\"] ;\\n13 -> 15 ;\\n16 [label=\"day <= 0.562\\\\ngini = 0.452\\\\nsamples = 0.5%\\\\nvalue = [0.655, 0.345]\"] ;\\n12 -> 16 ;\\n17 [label=\"gini = 0.278\\\\nsamples = 0.3%\\\\nvalue = [0.833, 0.167]\"] ;\\n16 -> 17 ;\\n18 [label=\"gini = 0.489\\\\nsamples = 0.2%\\\\nvalue = [0.427, 0.573]\"] ;\\n16 -> 18 ;\\n19 [label=\"duration <= -0.59\\\\ngini = 0.447\\\\nsamples = 0.6%\\\\nvalue = [0.663, 0.337]\"] ;\\n3 -> 19 ;\\n20 [label=\"duration <= -0.693\\\\ngini = 0.242\\\\nsamples = 0.2%\\\\nvalue = [0.859, 0.141]\"] ;\\n19 -> 20 ;\\n21 [label=\"balance <= -0.278\\\\ngini = 0.057\\\\nsamples = 0.1%\\\\nvalue = [0.971, 0.029]\"] ;\\n20 -> 21 ;\\n22 [label=\"gini = 0.198\\\\nsamples = 0.0%\\\\nvalue = [0.889, 0.111]\"] ;\\n21 -> 22 ;\\n23 [label=\"gini = 0.0\\\\nsamples = 0.1%\\\\nvalue = [1.0, 0.0]\"] ;\\n21 -> 23 ;\\n24 [label=\"day <= -0.218\\\\ngini = 0.351\\\\nsamples = 0.1%\\\\nvalue = [0.773, 0.227]\"] ;\\n20 -> 24 ;\\n25 [label=\"gini = 0.453\\\\nsamples = 0.1%\\\\nvalue = [0.654, 0.346]\"] ;\\n24 -> 25 ;\\n26 [label=\"gini = 0.105\\\\nsamples = 0.0%\\\\nvalue = [0.944, 0.056]\"] ;\\n24 -> 26 ;\\n27 [label=\"duration <= -0.328\\\\ngini = 0.497\\\\nsamples = 0.3%\\\\nvalue = [0.537, 0.463]\"] ;\\n19 -> 27 ;\\n28 [label=\"age <= -0.696\\\\ngini = 0.478\\\\nsamples = 0.2%\\\\nvalue = [0.605, 0.395]\"] ;\\n27 -> 28 ;\\n29 [label=\"gini = 0.305\\\\nsamples = 0.1%\\\\nvalue = [0.812, 0.188]\"] ;\\n28 -> 29 ;\\n30 [label=\"gini = 0.499\\\\nsamples = 0.1%\\\\nvalue = [0.481, 0.519]\"] ;\\n28 -> 30 ;\\n31 [label=\"day <= -0.278\\\\ngini = 0.467\\\\nsamples = 0.1%\\\\nvalue = [0.371, 0.629]\"] ;\\n27 -> 31 ;\\n32 [label=\"gini = 0.219\\\\nsamples = 0.0%\\\\nvalue = [0.125, 0.875]\"] ;\\n31 -> 32 ;\\n33 [label=\"gini = 0.488\\\\nsamples = 0.1%\\\\nvalue = [0.579, 0.421]\"] ;\\n31 -> 33 ;\\n34 [label=\"housing_yes <= 0.5\\\\ngini = 0.201\\\\nsamples = 31.2%\\\\nvalue = [0.886, 0.114]\"] ;\\n2 -> 34 ;\\n35 [label=\"age <= 1.845\\\\ngini = 0.31\\\\nsamples = 13.3%\\\\nvalue = [0.809, 0.191]\"] ;\\n34 -> 35 ;\\n36 [label=\"month_apr <= 0.5\\\\ngini = 0.284\\\\nsamples = 12.4%\\\\nvalue = [0.829, 0.171]\"] ;\\n35 -> 36 ;\\n37 [label=\"pdays <= -0.201\\\\ngini = 0.262\\\\nsamples = 11.9%\\\\nvalue = [0.845, 0.155]\"] ;\\n36 -> 37 ;\\n38 [label=\"gini = 0.222\\\\nsamples = 10.5%\\\\nvalue = [0.873, 0.127]\"] ;\\n37 -> 38 ;\\n39 [label=\"gini = 0.466\\\\nsamples = 1.4%\\\\nvalue = [0.631, 0.369]\"] ;\\n37 -> 39 ;\\n40 [label=\"pdays <= 1.536\\\\ngini = 0.5\\\\nsamples = 0.6%\\\\nvalue = [0.488, 0.512]\"] ;\\n36 -> 40 ;\\n41 [label=\"gini = 0.491\\\\nsamples = 0.5%\\\\nvalue = [0.432, 0.568]\"] ;\\n40 -> 41 ;\\n42 [label=\"gini = 0.285\\\\nsamples = 0.1%\\\\nvalue = [0.828, 0.172]\"] ;\\n40 -> 42 ;\\n43 [label=\"pdays <= 0.533\\\\ngini = 0.5\\\\nsamples = 0.8%\\\\nvalue = [0.512, 0.488]\"] ;\\n35 -> 43 ;\\n44 [label=\"balance <= -0.329\\\\ngini = 0.498\\\\nsamples = 0.7%\\\\nvalue = [0.472, 0.528]\"] ;\\n43 -> 44 ;\\n45 [label=\"gini = 0.473\\\\nsamples = 0.2%\\\\nvalue = [0.617, 0.383]\"] ;\\n44 -> 45 ;\\n46 [label=\"gini = 0.489\\\\nsamples = 0.5%\\\\nvalue = [0.426, 0.574]\"] ;\\n44 -> 46 ;\\n47 [label=\"duration <= 0.498\\\\ngini = 0.422\\\\nsamples = 0.1%\\\\nvalue = [0.698, 0.302]\"] ;\\n43 -> 47 ;\\n48 [label=\"gini = 0.351\\\\nsamples = 0.1%\\\\nvalue = [0.773, 0.227]\"] ;\\n47 -> 48 ;\\n49 [label=\"gini = 0.444\\\\nsamples = 0.0%\\\\nvalue = [0.333, 0.667]\"] ;\\n47 -> 49 ;\\n50 [label=\"pdays <= 3.338\\\\ngini = 0.105\\\\nsamples = 17.9%\\\\nvalue = [0.944, 0.056]\"] ;\\n34 -> 50 ;\\n51 [label=\"month_mar <= 0.5\\\\ngini = 0.098\\\\nsamples = 17.8%\\\\nvalue = [0.949, 0.051]\"] ;\\n50 -> 51 ;\\n52 [label=\"age <= 2.033\\\\ngini = 0.093\\\\nsamples = 17.7%\\\\nvalue = [0.951, 0.049]\"] ;\\n51 -> 52 ;\\n53 [label=\"gini = 0.091\\\\nsamples = 17.7%\\\\nvalue = [0.952, 0.048]\"] ;\\n52 -> 53 ;\\n54 [label=\"gini = 0.298\\\\nsamples = 0.0%\\\\nvalue = [0.182, 0.818]\"] ;\\n52 -> 54 ;\\n55 [label=\"day <= 1.462\\\\ngini = 0.426\\\\nsamples = 0.1%\\\\nvalue = [0.308, 0.692]\"] ;\\n51 -> 55 ;\\n56 [label=\"gini = 0.198\\\\nsamples = 0.0%\\\\nvalue = [0.111, 0.889]\"] ;\\n55 -> 56 ;\\n57 [label=\"gini = 0.375\\\\nsamples = 0.0%\\\\nvalue = [0.75, 0.25]\"] ;\\n55 -> 57 ;\\n58 [label=\"duration <= 0.025\\\\ngini = 0.355\\\\nsamples = 0.1%\\\\nvalue = [0.231, 0.769]\"] ;\\n50 -> 58 ;\\n59 [label=\"balance <= -0.124\\\\ngini = 0.498\\\\nsamples = 0.0%\\\\nvalue = [0.467, 0.533]\"] ;\\n58 -> 59 ;\\n60 [label=\"gini = 0.346\\\\nsamples = 0.0%\\\\nvalue = [0.778, 0.222]\"] ;\\n59 -> 60 ;\\n61 [label=\"gini = 0.0\\\\nsamples = 0.0%\\\\nvalue = [0.0, 1.0]\"] ;\\n59 -> 61 ;\\n62 [label=\"duration <= 0.878\\\\ngini = 0.153\\\\nsamples = 0.1%\\\\nvalue = [0.083, 0.917]\"] ;\\n58 -> 62 ;\\n63 [label=\"gini = 0.087\\\\nsamples = 0.1%\\\\nvalue = [0.045, 0.955]\"] ;\\n62 -> 63 ;\\n64 [label=\"gini = 0.5\\\\nsamples = 0.0%\\\\nvalue = [0.5, 0.5]\"] ;\\n62 -> 64 ;\\n65 [label=\"duration <= -0.486\\\\ngini = 0.472\\\\nsamples = 2.9%\\\\nvalue = [0.381, 0.619]\"] ;\\n1 -> 65 ;\\n66 [label=\"duration <= -0.679\\\\ngini = 0.354\\\\nsamples = 0.5%\\\\nvalue = [0.77, 0.23]\"] ;\\n65 -> 66 ;\\n67 [label=\"balance <= 4.353\\\\ngini = 0.16\\\\nsamples = 0.2%\\\\nvalue = [0.912, 0.088]\"] ;\\n66 -> 67 ;\\n68 [label=\"pdays <= 3.348\\\\ngini = 0.133\\\\nsamples = 0.2%\\\\nvalue = [0.929, 0.071]\"] ;\\n67 -> 68 ;\\n69 [label=\"month_feb <= 0.5\\\\ngini = 0.077\\\\nsamples = 0.1%\\\\nvalue = [0.96, 0.04]\"] ;\\n68 -> 69 ;\\n70 [label=\"gini = 0.042\\\\nsamples = 0.1%\\\\nvalue = [0.979, 0.021]\"] ;\\n69 -> 70 ;\\n71 [label=\"gini = 0.444\\\\nsamples = 0.0%\\\\nvalue = [0.667, 0.333]\"] ;\\n69 -> 71 ;\\n72 [label=\"pdays <= 3.787\\\\ngini = 0.444\\\\nsamples = 0.0%\\\\nvalue = [0.667, 0.333]\"] ;\\n68 -> 72 ;\\n73 [label=\"gini = 0.444\\\\nsamples = 0.0%\\\\nvalue = [0.333, 0.667]\"] ;\\n72 -> 73 ;\\n74 [label=\"gini = 0.0\\\\nsamples = 0.0%\\\\nvalue = [1.0, 0.0]\"] ;\\n72 -> 74 ;\\n75 [label=\"gini = 0.0\\\\nsamples = 0.0%\\\\nvalue = [0.0, 1.0]\"] ;\\n67 -> 75 ;\\n76 [label=\"month_sep <= 0.5\\\\ngini = 0.41\\\\nsamples = 0.4%\\\\nvalue = [0.712, 0.288]\"] ;\\n66 -> 76 ;\\n77 [label=\"pdays <= 0.622\\\\ngini = 0.375\\\\nsamples = 0.4%\\\\nvalue = [0.75, 0.25]\"] ;\\n76 -> 77 ;\\n78 [label=\"pdays <= 0.448\\\\ngini = 0.464\\\\nsamples = 0.2%\\\\nvalue = [0.633, 0.367]\"] ;\\n77 -> 78 ;\\n79 [label=\"gini = 0.266\\\\nsamples = 0.1%\\\\nvalue = [0.842, 0.158]\"] ;\\n78 -> 79 ;\\n80 [label=\"gini = 0.497\\\\nsamples = 0.1%\\\\nvalue = [0.537, 0.463]\"] ;\\n78 -> 80 ;\\n81 [label=\"balance <= -0.364\\\\ngini = 0.251\\\\nsamples = 0.2%\\\\nvalue = [0.853, 0.147]\"] ;\\n77 -> 81 ;\\n82 [label=\"gini = 0.497\\\\nsamples = 0.0%\\\\nvalue = [0.538, 0.462]\"] ;\\n81 -> 82 ;\\n83 [label=\"gini = 0.135\\\\nsamples = 0.2%\\\\nvalue = [0.927, 0.073]\"] ;\\n81 -> 83 ;\\n84 [label=\"pdays <= 1.127\\\\ngini = 0.397\\\\nsamples = 0.0%\\\\nvalue = [0.273, 0.727]\"] ;\\n76 -> 84 ;\\n85 [label=\"age <= -0.602\\\\ngini = 0.198\\\\nsamples = 0.0%\\\\nvalue = [0.111, 0.889]\"] ;\\n84 -> 85 ;\\n86 [label=\"gini = 0.0\\\\nsamples = 0.0%\\\\nvalue = [1.0, 0.0]\"] ;\\n85 -> 86 ;\\n87 [label=\"gini = 0.0\\\\nsamples = 0.0%\\\\nvalue = [0.0, 1.0]\"] ;\\n85 -> 87 ;\\n88 [label=\"gini = 0.0\\\\nsamples = 0.0%\\\\nvalue = [1.0, 0.0]\"] ;\\n84 -> 88 ;\\n89 [label=\"month_may <= 0.5\\\\ngini = 0.411\\\\nsamples = 2.3%\\\\nvalue = [0.29, 0.71]\"] ;\\n65 -> 89 ;\\n90 [label=\"duration <= -0.17\\\\ngini = 0.381\\\\nsamples = 2.0%\\\\nvalue = [0.256, 0.744]\"] ;\\n89 -> 90 ;\\n91 [label=\"balance <= 0.407\\\\ngini = 0.457\\\\nsamples = 0.7%\\\\nvalue = [0.354, 0.646]\"] ;\\n90 -> 91 ;\\n92 [label=\"duration <= -0.374\\\\ngini = 0.427\\\\nsamples = 0.5%\\\\nvalue = [0.309, 0.691]\"] ;\\n91 -> 92 ;\\n93 [label=\"gini = 0.498\\\\nsamples = 0.2%\\\\nvalue = [0.467, 0.533]\"] ;\\n92 -> 93 ;\\n94 [label=\"gini = 0.359\\\\nsamples = 0.4%\\\\nvalue = [0.234, 0.766]\"] ;\\n92 -> 94 ;\\n95 [label=\"month_sep <= 0.5\\\\ngini = 0.5\\\\nsamples = 0.2%\\\\nvalue = [0.509, 0.491]\"] ;\\n91 -> 95 ;\\n96 [label=\"gini = 0.49\\\\nsamples = 0.1%\\\\nvalue = [0.571, 0.429]\"] ;\\n95 -> 96 ;\\n97 [label=\"gini = 0.0\\\\nsamples = 0.0%\\\\nvalue = [0.0, 1.0]\"] ;\\n95 -> 97 ;\\n98 [label=\"month_nov <= 0.5\\\\ngini = 0.328\\\\nsamples = 1.3%\\\\nvalue = [0.207, 0.793]\"] ;\\n90 -> 98 ;\\n99 [label=\"duration <= 0.525\\\\ngini = 0.311\\\\nsamples = 1.2%\\\\nvalue = [0.193, 0.807]\"] ;\\n98 -> 99 ;\\n100 [label=\"gini = 0.285\\\\nsamples = 1.0%\\\\nvalue = [0.172, 0.828]\"] ;\\n99 -> 100 ;\\n101 [label=\"gini = 0.4\\\\nsamples = 0.2%\\\\nvalue = [0.276, 0.724]\"] ;\\n99 -> 101 ;\\n102 [label=\"day <= 0.202\\\\ngini = 0.454\\\\nsamples = 0.1%\\\\nvalue = [0.349, 0.651]\"] ;\\n98 -> 102 ;\\n103 [label=\"gini = 0.252\\\\nsamples = 0.1%\\\\nvalue = [0.148, 0.852]\"] ;\\n102 -> 103 ;\\n104 [label=\"gini = 0.43\\\\nsamples = 0.0%\\\\nvalue = [0.688, 0.312]\"] ;\\n102 -> 104 ;\\n105 [label=\"housing_yes <= 0.5\\\\ngini = 0.5\\\\nsamples = 0.3%\\\\nvalue = [0.496, 0.504]\"] ;\\n89 -> 105 ;\\n106 [label=\"duration <= 0.091\\\\ngini = 0.41\\\\nsamples = 0.2%\\\\nvalue = [0.288, 0.712]\"] ;\\n105 -> 106 ;\\n107 [label=\"day <= 0.502\\\\ngini = 0.482\\\\nsamples = 0.1%\\\\nvalue = [0.405, 0.595]\"] ;\\n106 -> 107 ;\\n108 [label=\"gini = 0.397\\\\nsamples = 0.1%\\\\nvalue = [0.273, 0.727]\"] ;\\n107 -> 108 ;\\n109 [label=\"gini = 0.48\\\\nsamples = 0.0%\\\\nvalue = [0.6, 0.4]\"] ;\\n107 -> 109 ;\\n110 [label=\"pdays <= 0.433\\\\ngini = 0.165\\\\nsamples = 0.1%\\\\nvalue = [0.091, 0.909]\"] ;\\n106 -> 110 ;\\n111 [label=\"gini = 0.444\\\\nsamples = 0.0%\\\\nvalue = [0.667, 0.333]\"] ;\\n110 -> 111 ;\\n112 [label=\"gini = 0.0\\\\nsamples = 0.1%\\\\nvalue = [0.0, 1.0]\"] ;\\n110 -> 112 ;\\n113 [label=\"duration <= 0.783\\\\ngini = 0.414\\\\nsamples = 0.2%\\\\nvalue = [0.707, 0.293]\"] ;\\n105 -> 113 ;\\n114 [label=\"day <= 0.502\\\\ngini = 0.366\\\\nsamples = 0.1%\\\\nvalue = [0.759, 0.241]\"] ;\\n113 -> 114 ;\\n115 [label=\"gini = 0.287\\\\nsamples = 0.1%\\\\nvalue = [0.826, 0.174]\"] ;\\n114 -> 115 ;\\n116 [label=\"gini = 0.469\\\\nsamples = 0.0%\\\\nvalue = [0.375, 0.625]\"] ;\\n114 -> 116 ;\\n117 [label=\"gini = 0.0\\\\nsamples = 0.0%\\\\nvalue = [0.0, 1.0]\"] ;\\n113 -> 117 ;\\n118 [label=\"duration <= 2.196\\\\ngini = 0.493\\\\nsamples = 11.0%\\\\nvalue = [0.558, 0.442]\"] ;\\n0 -> 118 [labeldistance=2.5, labelangle=-45, headlabel=\"False\"] ;\\n119 [label=\"poutcome_success <= 0.5\\\\ngini = 0.46\\\\nsamples = 7.0%\\\\nvalue = [0.641, 0.359]\"] ;\\n118 -> 119 ;\\n120 [label=\"contact_unknown <= 0.5\\\\ngini = 0.447\\\\nsamples = 6.7%\\\\nvalue = [0.662, 0.338]\"] ;\\n119 -> 120 ;\\n121 [label=\"duration <= 1.447\\\\ngini = 0.473\\\\nsamples = 4.8%\\\\nvalue = [0.616, 0.384]\"] ;\\n120 -> 121 ;\\n122 [label=\"month_jun <= 0.5\\\\ngini = 0.433\\\\nsamples = 2.5%\\\\nvalue = [0.683, 0.317]\"] ;\\n121 -> 122 ;\\n123 [label=\"age <= 2.08\\\\ngini = 0.426\\\\nsamples = 2.4%\\\\nvalue = [0.693, 0.307]\"] ;\\n122 -> 123 ;\\n124 [label=\"gini = 0.418\\\\nsamples = 2.3%\\\\nvalue = [0.703, 0.297]\"] ;\\n123 -> 124 ;\\n125 [label=\"gini = 0.477\\\\nsamples = 0.1%\\\\nvalue = [0.393, 0.607]\"] ;\\n123 -> 125 ;\\n126 [label=\"day <= -1.118\\\\ngini = 0.375\\\\nsamples = 0.1%\\\\nvalue = [0.25, 0.75]\"] ;\\n122 -> 126 ;\\n127 [label=\"gini = 0.0\\\\nsamples = 0.0%\\\\nvalue = [0.0, 1.0]\"] ;\\n126 -> 127 ;\\n128 [label=\"gini = 0.5\\\\nsamples = 0.0%\\\\nvalue = [0.5, 0.5]\"] ;\\n126 -> 128 ;\\n129 [label=\"day <= -0.038\\\\ngini = 0.496\\\\nsamples = 2.3%\\\\nvalue = [0.545, 0.455]\"] ;\\n121 -> 129 ;\\n130 [label=\"balance <= 0.317\\\\ngini = 0.5\\\\nsamples = 1.1%\\\\nvalue = [0.485, 0.515]\"] ;\\n129 -> 130 ;\\n131 [label=\"gini = 0.499\\\\nsamples = 0.9%\\\\nvalue = [0.524, 0.476]\"] ;\\n130 -> 131 ;\\n132 [label=\"gini = 0.456\\\\nsamples = 0.3%\\\\nvalue = [0.352, 0.648]\"] ;\\n130 -> 132 ;\\n133 [label=\"housing_yes <= 0.5\\\\ngini = 0.48\\\\nsamples = 1.2%\\\\nvalue = [0.599, 0.401]\"] ;\\n129 -> 133 ;\\n134 [label=\"gini = 0.5\\\\nsamples = 0.6%\\\\nvalue = [0.514, 0.486]\"] ;\\n133 -> 134 ;\\n135 [label=\"gini = 0.437\\\\nsamples = 0.6%\\\\nvalue = [0.678, 0.322]\"] ;\\n133 -> 135 ;\\n136 [label=\"duration <= 1.505\\\\ngini = 0.344\\\\nsamples = 1.9%\\\\nvalue = [0.78, 0.22]\"] ;\\n120 -> 136 ;\\n137 [label=\"age <= 0.434\\\\ngini = 0.262\\\\nsamples = 1.0%\\\\nvalue = [0.845, 0.155]\"] ;\\n136 -> 137 ;\\n138 [label=\"month_may <= 0.5\\\\ngini = 0.302\\\\nsamples = 0.7%\\\\nvalue = [0.815, 0.185]\"] ;\\n137 -> 138 ;\\n139 [label=\"gini = 0.4\\\\nsamples = 0.3%\\\\nvalue = [0.723, 0.277]\"] ;\\n138 -> 139 ;\\n140 [label=\"gini = 0.236\\\\nsamples = 0.5%\\\\nvalue = [0.864, 0.136]\"] ;\\n138 -> 140 ;\\n141 [label=\"duration <= 1.478\\\\ngini = 0.142\\\\nsamples = 0.3%\\\\nvalue = [0.923, 0.077]\"] ;\\n137 -> 141 ;\\n142 [label=\"gini = 0.114\\\\nsamples = 0.3%\\\\nvalue = [0.939, 0.061]\"] ;\\n141 -> 142 ;\\n143 [label=\"gini = 0.48\\\\nsamples = 0.0%\\\\nvalue = [0.6, 0.4]\"] ;\\n141 -> 143 ;\\n144 [label=\"age <= -0.696\\\\ngini = 0.418\\\\nsamples = 0.9%\\\\nvalue = [0.703, 0.297]\"] ;\\n136 -> 144 ;\\n145 [label=\"duration <= 2.149\\\\ngini = 0.481\\\\nsamples = 0.3%\\\\nvalue = [0.598, 0.402]\"] ;\\n144 -> 145 ;\\n146 [label=\"gini = 0.489\\\\nsamples = 0.3%\\\\nvalue = [0.574, 0.426]\"] ;\\n145 -> 146 ;\\n147 [label=\"gini = 0.0\\\\nsamples = 0.0%\\\\nvalue = [1.0, 0.0]\"] ;\\n145 -> 147 ;\\n148 [label=\"balance <= -0.427\\\\ngini = 0.369\\\\nsamples = 0.6%\\\\nvalue = [0.756, 0.244]\"] ;\\n144 -> 148 ;\\n149 [label=\"gini = 0.176\\\\nsamples = 0.1%\\\\nvalue = [0.902, 0.098]\"] ;\\n148 -> 149 ;\\n150 [label=\"gini = 0.403\\\\nsamples = 0.5%\\\\nvalue = [0.72, 0.28]\"] ;\\n148 -> 150 ;\\n151 [label=\"housing_no <= 0.5\\\\ngini = 0.293\\\\nsamples = 0.3%\\\\nvalue = [0.179, 0.821]\"] ;\\n119 -> 151 ;\\n152 [label=\"month_jul <= 0.5\\\\ngini = 0.43\\\\nsamples = 0.1%\\\\nvalue = [0.312, 0.688]\"] ;\\n151 -> 152 ;\\n153 [label=\"day <= 0.322\\\\ngini = 0.405\\\\nsamples = 0.1%\\\\nvalue = [0.283, 0.717]\"] ;\\n152 -> 153 ;\\n154 [label=\"day <= -1.358\\\\ngini = 0.469\\\\nsamples = 0.1%\\\\nvalue = [0.375, 0.625]\"] ;\\n153 -> 154 ;\\n155 [label=\"gini = 0.0\\\\nsamples = 0.0%\\\\nvalue = [0.0, 1.0]\"] ;\\n154 -> 155 ;\\n156 [label=\"gini = 0.49\\\\nsamples = 0.1%\\\\nvalue = [0.429, 0.571]\"] ;\\n154 -> 156 ;\\n157 [label=\"month_oct <= 0.5\\\\ngini = 0.133\\\\nsamples = 0.0%\\\\nvalue = [0.071, 0.929]\"] ;\\n153 -> 157 ;\\n158 [label=\"gini = 0.0\\\\nsamples = 0.0%\\\\nvalue = [0.0, 1.0]\"] ;\\n157 -> 158 ;\\n159 [label=\"gini = 0.5\\\\nsamples = 0.0%\\\\nvalue = [0.5, 0.5]\"] ;\\n157 -> 159 ;\\n160 [label=\"gini = 0.0\\\\nsamples = 0.0%\\\\nvalue = [1.0, 0.0]\"] ;\\n152 -> 160 ;\\n161 [label=\"day <= 1.762\\\\ngini = 0.144\\\\nsamples = 0.2%\\\\nvalue = [0.078, 0.922]\"] ;\\n151 -> 161 ;\\n162 [label=\"day <= -1.718\\\\ngini = 0.092\\\\nsamples = 0.2%\\\\nvalue = [0.048, 0.952]\"] ;\\n161 -> 162 ;\\n163 [label=\"balance <= 1.887\\\\ngini = 0.5\\\\nsamples = 0.0%\\\\nvalue = [0.5, 0.5]\"] ;\\n162 -> 163 ;\\n164 [label=\"gini = 0.0\\\\nsamples = 0.0%\\\\nvalue = [1.0, 0.0]\"] ;\\n163 -> 164 ;\\n165 [label=\"gini = 0.0\\\\nsamples = 0.0%\\\\nvalue = [0.0, 1.0]\"] ;\\n163 -> 165 ;\\n166 [label=\"month_may <= 0.5\\\\ngini = 0.064\\\\nsamples = 0.2%\\\\nvalue = [0.033, 0.967]\"] ;\\n162 -> 166 ;\\n167 [label=\"gini = 0.0\\\\nsamples = 0.1%\\\\nvalue = [0.0, 1.0]\"] ;\\n166 -> 167 ;\\n168 [label=\"gini = 0.298\\\\nsamples = 0.0%\\\\nvalue = [0.182, 0.818]\"] ;\\n166 -> 168 ;\\n169 [label=\"gini = 0.0\\\\nsamples = 0.0%\\\\nvalue = [1.0, 0.0]\"] ;\\n161 -> 169 ;\\n170 [label=\"contact_cellular <= 0.5\\\\ngini = 0.485\\\\nsamples = 4.0%\\\\nvalue = [0.414, 0.586]\"] ;\\n118 -> 170 ;\\n171 [label=\"balance <= -0.179\\\\ngini = 0.5\\\\nsamples = 1.3%\\\\nvalue = [0.498, 0.502]\"] ;\\n170 -> 171 ;\\n172 [label=\"day <= 1.642\\\\ngini = 0.493\\\\nsamples = 0.8%\\\\nvalue = [0.561, 0.439]\"] ;\\n171 -> 172 ;\\n173 [label=\"month_jun <= 0.5\\\\ngini = 0.488\\\\nsamples = 0.7%\\\\nvalue = [0.578, 0.422]\"] ;\\n172 -> 173 ;\\n174 [label=\"duration <= 2.881\\\\ngini = 0.466\\\\nsamples = 0.5%\\\\nvalue = [0.63, 0.37]\"] ;\\n173 -> 174 ;\\n175 [label=\"gini = 0.393\\\\nsamples = 0.2%\\\\nvalue = [0.731, 0.269]\"] ;\\n174 -> 175 ;\\n176 [label=\"gini = 0.493\\\\nsamples = 0.3%\\\\nvalue = [0.559, 0.441]\"] ;\\n174 -> 176 ;\\n177 [label=\"balance <= -0.456\\\\ngini = 0.496\\\\nsamples = 0.2%\\\\nvalue = [0.456, 0.544]\"] ;\\n173 -> 177 ;\\n178 [label=\"gini = 0.165\\\\nsamples = 0.0%\\\\nvalue = [0.091, 0.909]\"] ;\\n177 -> 178 ;\\n179 [label=\"gini = 0.5\\\\nsamples = 0.2%\\\\nvalue = [0.515, 0.485]\"] ;\\n177 -> 179 ;\\n180 [label=\"duration <= 2.394\\\\ngini = 0.278\\\\nsamples = 0.0%\\\\nvalue = [0.167, 0.833]\"] ;\\n172 -> 180 ;\\n181 [label=\"gini = 0.0\\\\nsamples = 0.0%\\\\nvalue = [1.0, 0.0]\"] ;\\n180 -> 181 ;\\n182 [label=\"duration <= 4.92\\\\ngini = 0.165\\\\nsamples = 0.0%\\\\nvalue = [0.091, 0.909]\"] ;\\n180 -> 182 ;\\n183 [label=\"gini = 0.0\\\\nsamples = 0.0%\\\\nvalue = [0.0, 1.0]\"] ;\\n182 -> 183 ;\\n184 [label=\"gini = 0.5\\\\nsamples = 0.0%\\\\nvalue = [0.5, 0.5]\"] ;\\n182 -> 184 ;\\n185 [label=\"balance <= 2.489\\\\ngini = 0.483\\\\nsamples = 0.5%\\\\nvalue = [0.408, 0.592]\"] ;\\n171 -> 185 ;\\n186 [label=\"age <= -1.072\\\\ngini = 0.474\\\\nsamples = 0.5%\\\\nvalue = [0.386, 0.614]\"] ;\\n185 -> 186 ;\\n187 [label=\"duration <= 3.84\\\\ngini = 0.426\\\\nsamples = 0.0%\\\\nvalue = [0.692, 0.308]\"] ;\\n186 -> 187 ;\\n188 [label=\"gini = 0.198\\\\nsamples = 0.0%\\\\nvalue = [0.889, 0.111]\"] ;\\n187 -> 188 ;\\n189 [label=\"gini = 0.375\\\\nsamples = 0.0%\\\\nvalue = [0.25, 0.75]\"] ;\\n187 -> 189 ;\\n190 [label=\"month_jan <= 0.5\\\\ngini = 0.462\\\\nsamples = 0.5%\\\\nvalue = [0.363, 0.637]\"] ;\\n186 -> 190 ;\\n191 [label=\"gini = 0.458\\\\nsamples = 0.5%\\\\nvalue = [0.355, 0.645]\"] ;\\n190 -> 191 ;\\n192 [label=\"gini = 0.0\\\\nsamples = 0.0%\\\\nvalue = [1.0, 0.0]\"] ;\\n190 -> 192 ;\\n193 [label=\"duration <= 3.84\\\\ngini = 0.375\\\\nsamples = 0.0%\\\\nvalue = [0.75, 0.25]\"] ;\\n185 -> 193 ;\\n194 [label=\"gini = 0.0\\\\nsamples = 0.0%\\\\nvalue = [1.0, 0.0]\"] ;\\n193 -> 194 ;\\n195 [label=\"contact_telephone <= 0.5\\\\ngini = 0.375\\\\nsamples = 0.0%\\\\nvalue = [0.25, 0.75]\"] ;\\n193 -> 195 ;\\n196 [label=\"gini = 0.0\\\\nsamples = 0.0%\\\\nvalue = [0.0, 1.0]\"] ;\\n195 -> 196 ;\\n197 [label=\"gini = 0.0\\\\nsamples = 0.0%\\\\nvalue = [1.0, 0.0]\"] ;\\n195 -> 197 ;\\n198 [label=\"age <= 1.28\\\\ngini = 0.467\\\\nsamples = 2.7%\\\\nvalue = [0.372, 0.628]\"] ;\\n170 -> 198 ;\\n199 [label=\"poutcome_success <= 0.5\\\\ngini = 0.456\\\\nsamples = 2.3%\\\\nvalue = [0.352, 0.648]\"] ;\\n198 -> 199 ;\\n200 [label=\"pdays <= 0.837\\\\ngini = 0.462\\\\nsamples = 2.2%\\\\nvalue = [0.361, 0.639]\"] ;\\n199 -> 200 ;\\n201 [label=\"duration <= 3.716\\\\ngini = 0.45\\\\nsamples = 1.9%\\\\nvalue = [0.342, 0.658]\"] ;\\n200 -> 201 ;\\n202 [label=\"gini = 0.469\\\\nsamples = 1.3%\\\\nvalue = [0.375, 0.625]\"] ;\\n201 -> 202 ;\\n203 [label=\"gini = 0.387\\\\nsamples = 0.5%\\\\nvalue = [0.263, 0.737]\"] ;\\n201 -> 203 ;\\n204 [label=\"pdays <= 1.301\\\\ngini = 0.499\\\\nsamples = 0.3%\\\\nvalue = [0.474, 0.526]\"] ;\\n200 -> 204 ;\\n205 [label=\"gini = 0.363\\\\nsamples = 0.1%\\\\nvalue = [0.762, 0.238]\"] ;\\n204 -> 205 ;\\n206 [label=\"gini = 0.484\\\\nsamples = 0.3%\\\\nvalue = [0.411, 0.589]\"] ;\\n204 -> 206 ;\\n207 [label=\"day <= -0.938\\\\ngini = 0.26\\\\nsamples = 0.1%\\\\nvalue = [0.154, 0.846]\"] ;\\n199 -> 207 ;\\n208 [label=\"balance <= -0.169\\\\ngini = 0.48\\\\nsamples = 0.0%\\\\nvalue = [0.4, 0.6]\"] ;\\n207 -> 208 ;\\n209 [label=\"gini = 0.0\\\\nsamples = 0.0%\\\\nvalue = [0.0, 1.0]\"] ;\\n208 -> 209 ;\\n210 [label=\"gini = 0.496\\\\nsamples = 0.0%\\\\nvalue = [0.545, 0.455]\"] ;\\n208 -> 210 ;\\n211 [label=\"gini = 0.0\\\\nsamples = 0.1%\\\\nvalue = [0.0, 1.0]\"] ;\\n207 -> 211 ;\\n212 [label=\"day <= 0.802\\\\ngini = 0.5\\\\nsamples = 0.4%\\\\nvalue = [0.5, 0.5]\"] ;\\n198 -> 212 ;\\n213 [label=\"month_nov <= 0.5\\\\ngini = 0.496\\\\nsamples = 0.3%\\\\nvalue = [0.455, 0.545]\"] ;\\n212 -> 213 ;\\n214 [label=\"pdays <= 1.446\\\\ngini = 0.484\\\\nsamples = 0.3%\\\\nvalue = [0.411, 0.589]\"] ;\\n213 -> 214 ;\\n215 [label=\"gini = 0.462\\\\nsamples = 0.2%\\\\nvalue = [0.361, 0.639]\"] ;\\n214 -> 215 ;\\n216 [label=\"gini = 0.375\\\\nsamples = 0.0%\\\\nvalue = [0.75, 0.25]\"] ;\\n214 -> 216 ;\\n217 [label=\"age <= 2.41\\\\ngini = 0.415\\\\nsamples = 0.0%\\\\nvalue = [0.706, 0.294]\"] ;\\n213 -> 217 ;\\n218 [label=\"gini = 0.32\\\\nsamples = 0.0%\\\\nvalue = [0.8, 0.2]\"] ;\\n217 -> 218 ;\\n219 [label=\"gini = 0.0\\\\nsamples = 0.0%\\\\nvalue = [0.0, 1.0]\"] ;\\n217 -> 219 ;\\n220 [label=\"month_aug <= 0.5\\\\ngini = 0.413\\\\nsamples = 0.1%\\\\nvalue = [0.708, 0.292]\"] ;\\n212 -> 220 ;\\n221 [label=\"balance <= -0.457\\\\ngini = 0.351\\\\nsamples = 0.1%\\\\nvalue = [0.773, 0.227]\"] ;\\n220 -> 221 ;\\n222 [label=\"gini = 0.444\\\\nsamples = 0.0%\\\\nvalue = [0.333, 0.667]\"] ;\\n221 -> 222 ;\\n223 [label=\"gini = 0.266\\\\nsamples = 0.1%\\\\nvalue = [0.842, 0.158]\"] ;\\n221 -> 223 ;\\n224 [label=\"gini = 0.0\\\\nsamples = 0.0%\\\\nvalue = [0.0, 1.0]\"] ;\\n220 -> 224 ;\\n}', is_classification=True), highlight_spaces=None, transition_features=None, image=None)"
      ]
     },
     "execution_count": 23,
     "metadata": {},
     "output_type": "execute_result"
    }
   ],
   "source": [
    "import eli5 as eli5\n",
    "eli5.explain_weights(clf_best.named_steps[\"clf_dt\"], top=50, feature_names=numeric_features_list, feature_filter=lambda x: x != '<BIAS>')"
   ]
  },
  {
   "cell_type": "code",
   "execution_count": 24,
   "metadata": {},
   "outputs": [
    {
     "name": "stdout",
     "output_type": "stream",
     "text": [
      "                   importance\n",
      "duration             0.490500\n",
      "poutcome_success     0.254590\n",
      "pdays                0.047509\n",
      "housing_yes          0.043948\n",
      "age                  0.040822\n",
      "month_mar            0.022314\n",
      "day                  0.022059\n",
      "month_apr            0.021613\n",
      "balance              0.014293\n",
      "contact_unknown      0.009912\n",
      "month_oct            0.009037\n",
      "month_may            0.005426\n",
      "month_jun            0.004114\n",
      "contact_cellular     0.003751\n",
      "month_sep            0.003022\n",
      "month_nov            0.001650\n",
      "month_feb            0.001595\n",
      "housing_no           0.001123\n",
      "month_aug            0.000816\n",
      "month_jul            0.000735\n",
      "month_jan            0.000613\n",
      "contact_telephone    0.000559\n",
      "month_dec            0.000000\n",
      "poutcome_failure     0.000000\n",
      "poutcome_other       0.000000\n",
      "poutcome_unknown     0.000000\n"
     ]
    }
   ],
   "source": [
    "r = pd.DataFrame(i, index=numeric_features_list, columns=['importance'])\n",
    "r\n",
    "\n",
    "print(r.sort_values('importance', ascending = False))"
   ]
  },
  {
   "cell_type": "markdown",
   "metadata": {},
   "source": [
    "Persist the Model\n",
    "The following code shows how to save the trained model as a pickle file, which can be loaded in to make predictions."
   ]
  },
  {
   "cell_type": "code",
   "execution_count": 25,
   "metadata": {},
   "outputs": [],
   "source": [
    "# try random forest classifer\n",
    "from sklearn.ensemble import RandomForestClassifier\n",
    "from sklearn.datasets import make_classification\n",
    "\n",
    "\n",
    "# rf pipeline\n",
    "pipeline_rf = Pipeline([\n",
    "    ('preprocessor', preprocessor),\n",
    "    ('clf_rf', RandomForestClassifier()),\n",
    "])\n",
    "\n",
    "# here we are trying 2x3 different rf models\n",
    "param_grid_rf = [\n",
    "    {\n",
    "        'clf_rf__criterion': ['gini', 'entropy'], \n",
    "        'clf_rf__n_estimators': [50, 100, 150],  \n",
    "    }\n",
    "]\n",
    "\n",
    "# set up the grid search \n",
    "grid_search_rf = GridSearchCV(pipeline_rf, param_grid_rf, cv=10, scoring='accuracy')"
   ]
  },
  {
   "cell_type": "code",
   "execution_count": 26,
   "metadata": {},
   "outputs": [
    {
     "name": "stdout",
     "output_type": "stream",
     "text": [
      "Wall time: 5min 8s\n"
     ]
    },
    {
     "data": {
      "text/plain": [
       "GridSearchCV(cv=10,\n",
       "             estimator=Pipeline(steps=[('preprocessor',\n",
       "                                        ColumnTransformer(transformers=[('num_pipeline',\n",
       "                                                                         Pipeline(steps=[('num_imputer',\n",
       "                                                                                          SimpleImputer()),\n",
       "                                                                                         ('scaler',\n",
       "                                                                                          StandardScaler())]),\n",
       "                                                                         ['age',\n",
       "                                                                          'balance',\n",
       "                                                                          'day',\n",
       "                                                                          'duration',\n",
       "                                                                          'pdays']),\n",
       "                                                                        ('cat_pipeline',\n",
       "                                                                         Pipeline(steps=[('cat_imputer',\n",
       "                                                                                          SimpleImputer(strategy='most_frequent')),\n",
       "                                                                                         ('onehot',\n",
       "                                                                                          OneHotEncoder(handle_unknown='ignore'))]),\n",
       "                                                                         ['housing',\n",
       "                                                                          'month',\n",
       "                                                                          'poutcome',\n",
       "                                                                          'contact'])])),\n",
       "                                       ('clf_rf', RandomForestClassifier())]),\n",
       "             param_grid=[{'clf_rf__criterion': ['gini', 'entropy'],\n",
       "                          'clf_rf__n_estimators': [50, 100, 150]}],\n",
       "             scoring='accuracy')"
      ]
     },
     "execution_count": 26,
     "metadata": {},
     "output_type": "execute_result"
    }
   ],
   "source": [
    "%%time\n",
    "# train the model using the full pipeline\n",
    "grid_search_rf.fit(X_train, y_train)"
   ]
  },
  {
   "cell_type": "code",
   "execution_count": 27,
   "metadata": {},
   "outputs": [
    {
     "data": {
      "text/plain": [
       "array([1, 1, 1, ..., 1, 1, 1], dtype=int64)"
      ]
     },
     "execution_count": 27,
     "metadata": {},
     "output_type": "execute_result"
    }
   ],
   "source": [
    "clf_best = grid_search_dt.best_estimator_\n",
    "y_pred = clf_best.predict(X_test)\n",
    "y_pred"
   ]
  },
  {
   "cell_type": "code",
   "execution_count": 28,
   "metadata": {},
   "outputs": [
    {
     "data": {
      "text/html": [
       "<div>\n",
       "<style scoped>\n",
       "    .dataframe tbody tr th:only-of-type {\n",
       "        vertical-align: middle;\n",
       "    }\n",
       "\n",
       "    .dataframe tbody tr th {\n",
       "        vertical-align: top;\n",
       "    }\n",
       "\n",
       "    .dataframe thead th {\n",
       "        text-align: right;\n",
       "    }\n",
       "</style>\n",
       "<table border=\"1\" class=\"dataframe\">\n",
       "  <thead>\n",
       "    <tr style=\"text-align: right;\">\n",
       "      <th></th>\n",
       "      <th>43965</th>\n",
       "    </tr>\n",
       "  </thead>\n",
       "  <tbody>\n",
       "    <tr>\n",
       "      <th>age</th>\n",
       "      <td>64</td>\n",
       "    </tr>\n",
       "    <tr>\n",
       "      <th>job</th>\n",
       "      <td>retired</td>\n",
       "    </tr>\n",
       "    <tr>\n",
       "      <th>marital</th>\n",
       "      <td>divorced</td>\n",
       "    </tr>\n",
       "    <tr>\n",
       "      <th>education</th>\n",
       "      <td>primary</td>\n",
       "    </tr>\n",
       "    <tr>\n",
       "      <th>default</th>\n",
       "      <td>no</td>\n",
       "    </tr>\n",
       "    <tr>\n",
       "      <th>balance</th>\n",
       "      <td>109</td>\n",
       "    </tr>\n",
       "    <tr>\n",
       "      <th>housing</th>\n",
       "      <td>no</td>\n",
       "    </tr>\n",
       "    <tr>\n",
       "      <th>loan</th>\n",
       "      <td>no</td>\n",
       "    </tr>\n",
       "    <tr>\n",
       "      <th>contact</th>\n",
       "      <td>cellular</td>\n",
       "    </tr>\n",
       "    <tr>\n",
       "      <th>day</th>\n",
       "      <td>23</td>\n",
       "    </tr>\n",
       "    <tr>\n",
       "      <th>month</th>\n",
       "      <td>jun</td>\n",
       "    </tr>\n",
       "    <tr>\n",
       "      <th>duration</th>\n",
       "      <td>706</td>\n",
       "    </tr>\n",
       "    <tr>\n",
       "      <th>campaign</th>\n",
       "      <td>1</td>\n",
       "    </tr>\n",
       "    <tr>\n",
       "      <th>pdays</th>\n",
       "      <td>225</td>\n",
       "    </tr>\n",
       "    <tr>\n",
       "      <th>previous</th>\n",
       "      <td>2</td>\n",
       "    </tr>\n",
       "    <tr>\n",
       "      <th>poutcome</th>\n",
       "      <td>success</td>\n",
       "    </tr>\n",
       "  </tbody>\n",
       "</table>\n",
       "</div>"
      ],
      "text/plain": [
       "              43965\n",
       "age              64\n",
       "job         retired\n",
       "marital    divorced\n",
       "education   primary\n",
       "default          no\n",
       "balance         109\n",
       "housing          no\n",
       "loan             no\n",
       "contact    cellular\n",
       "day              23\n",
       "month           jun\n",
       "duration        706\n",
       "campaign          1\n",
       "pdays           225\n",
       "previous          2\n",
       "poutcome    success"
      ]
     },
     "execution_count": 28,
     "metadata": {},
     "output_type": "execute_result"
    }
   ],
   "source": [
    "banker = X_test.iloc[7].to_frame().T\n",
    "banker.T"
   ]
  },
  {
   "cell_type": "code",
   "execution_count": 29,
   "metadata": {},
   "outputs": [
    {
     "data": {
      "text/plain": [
       "((1, 16), (9043, 16))"
      ]
     },
     "execution_count": 29,
     "metadata": {},
     "output_type": "execute_result"
    }
   ],
   "source": [
    "banker.shape, X_test.shape"
   ]
  },
  {
   "cell_type": "code",
   "execution_count": 30,
   "metadata": {
    "scrolled": true
   },
   "outputs": [
    {
     "data": {
      "text/plain": [
       "array([2], dtype=int64)"
      ]
     },
     "execution_count": 30,
     "metadata": {},
     "output_type": "execute_result"
    }
   ],
   "source": [
    "test = clf_best.predict(banker)\n",
    "test"
   ]
  },
  {
   "cell_type": "code",
   "execution_count": 31,
   "metadata": {},
   "outputs": [],
   "source": [
    "# try SVM classifer\n",
    "from sklearn.svm import SVC\n",
    "\n",
    "# SVC pipeline\n",
    "pipeline_svc = Pipeline([\n",
    "    ('preprocessor', preprocessor),\n",
    "    ('clf_svc', SVC()),\n",
    "])\n",
    "\n",
    "# here we are trying three different kernel and three degree values for polynomail kernel\n",
    "# in total 5 different combinations\n",
    "param_grid_svc = [\n",
    "    {\n",
    "        'clf_svc__kernel': ['linear', 'poly', 'rbf'], \n",
    "        'clf_svc__degree': [3, 4, 5],  # only for poly kernel\n",
    "    }\n",
    "]\n",
    "\n",
    "# set up the grid search \n",
    "grid_search_svc = GridSearchCV(pipeline_svc, param_grid_svc, cv=10, scoring='accuracy')"
   ]
  },
  {
   "cell_type": "code",
   "execution_count": 32,
   "metadata": {},
   "outputs": [
    {
     "data": {
      "text/plain": [
       "GridSearchCV(cv=10,\n",
       "             estimator=Pipeline(steps=[('preprocessor',\n",
       "                                        ColumnTransformer(transformers=[('num_pipeline',\n",
       "                                                                         Pipeline(steps=[('num_imputer',\n",
       "                                                                                          SimpleImputer()),\n",
       "                                                                                         ('scaler',\n",
       "                                                                                          StandardScaler())]),\n",
       "                                                                         ['age',\n",
       "                                                                          'balance',\n",
       "                                                                          'day',\n",
       "                                                                          'duration',\n",
       "                                                                          'pdays']),\n",
       "                                                                        ('cat_pipeline',\n",
       "                                                                         Pipeline(steps=[('cat_imputer',\n",
       "                                                                                          SimpleImputer(strategy='most_frequent')),\n",
       "                                                                                         ('onehot',\n",
       "                                                                                          OneHotEncoder(handle_unknown='ignore'))]),\n",
       "                                                                         ['housing',\n",
       "                                                                          'month',\n",
       "                                                                          'poutcome',\n",
       "                                                                          'contact'])])),\n",
       "                                       ('clf_svc', SVC())]),\n",
       "             param_grid=[{'clf_svc__degree': [3, 4, 5],\n",
       "                          'clf_svc__kernel': ['linear', 'poly', 'rbf']}],\n",
       "             scoring='accuracy')"
      ]
     },
     "execution_count": 32,
     "metadata": {},
     "output_type": "execute_result"
    }
   ],
   "source": [
    "# train the model using the full pipeline\n",
    "grid_search_svc.fit(X_train, y_train)"
   ]
  },
  {
   "cell_type": "code",
   "execution_count": 33,
   "metadata": {},
   "outputs": [
    {
     "data": {
      "text/plain": [
       "0.9053584306287175"
      ]
     },
     "execution_count": 33,
     "metadata": {},
     "output_type": "execute_result"
    }
   ],
   "source": [
    "# best test score\n",
    "grid_search_svc.best_score_"
   ]
  },
  {
   "cell_type": "code",
   "execution_count": 34,
   "metadata": {},
   "outputs": [
    {
     "name": "stdout",
     "output_type": "stream",
     "text": [
      "best dt score is:  0.9023999714964486\n",
      "best rf score is:  0.9069343834180286\n"
     ]
    }
   ],
   "source": [
    "# best test score\n",
    "print('best dt score is: ', grid_search_dt.best_score_)\n",
    "#print('best svc score is: ', grid_search_svc.best_score_)\n",
    "print('best rf score is: ', grid_search_rf.best_score_)"
   ]
  },
  {
   "cell_type": "code",
   "execution_count": 35,
   "metadata": {},
   "outputs": [],
   "source": [
    "#print(f\"Best xgboost Score: {best_score_}\")"
   ]
  },
  {
   "cell_type": "code",
   "execution_count": 36,
   "metadata": {},
   "outputs": [
    {
     "data": {
      "text/plain": [
       "Pipeline(steps=[('preprocessor',\n",
       "                 ColumnTransformer(transformers=[('num_pipeline',\n",
       "                                                  Pipeline(steps=[('num_imputer',\n",
       "                                                                   SimpleImputer()),\n",
       "                                                                  ('scaler',\n",
       "                                                                   StandardScaler())]),\n",
       "                                                  ['age', 'balance', 'day',\n",
       "                                                   'duration', 'pdays']),\n",
       "                                                 ('cat_pipeline',\n",
       "                                                  Pipeline(steps=[('cat_imputer',\n",
       "                                                                   SimpleImputer(strategy='most_frequent')),\n",
       "                                                                  ('onehot',\n",
       "                                                                   OneHotEncoder(handle_unknown='ignore'))]),\n",
       "                                                  ['housing', 'month',\n",
       "                                                   'poutcome', 'contact'])])),\n",
       "                ('clf_rf', RandomForestClassifier(criterion='entropy'))])"
      ]
     },
     "execution_count": 36,
     "metadata": {},
     "output_type": "execute_result"
    }
   ],
   "source": [
    "# select the best model\n",
    "# the best parameters are shown, note SimpleImputer() implies that mean strategry is used\n",
    "clf_best = grid_search_rf.best_estimator_\n",
    "clf_best"
   ]
  },
  {
   "cell_type": "code",
   "execution_count": 37,
   "metadata": {},
   "outputs": [
    {
     "data": {
      "text/plain": [
       "['clf-best.pickle']"
      ]
     },
     "execution_count": 37,
     "metadata": {},
     "output_type": "execute_result"
    }
   ],
   "source": [
    "# Save the model as a pickle file\n",
    "import joblib\n",
    "joblib.dump(clf_best, \"clf-best.pickle\")"
   ]
  },
  {
   "cell_type": "code",
   "execution_count": 38,
   "metadata": {},
   "outputs": [
    {
     "data": {
      "text/plain": [
       "Pipeline(steps=[('preprocessor',\n",
       "                 ColumnTransformer(transformers=[('num_pipeline',\n",
       "                                                  Pipeline(steps=[('num_imputer',\n",
       "                                                                   SimpleImputer()),\n",
       "                                                                  ('scaler',\n",
       "                                                                   StandardScaler())]),\n",
       "                                                  ['age', 'balance', 'day',\n",
       "                                                   'duration', 'pdays']),\n",
       "                                                 ('cat_pipeline',\n",
       "                                                  Pipeline(steps=[('cat_imputer',\n",
       "                                                                   SimpleImputer(strategy='most_frequent')),\n",
       "                                                                  ('onehot',\n",
       "                                                                   OneHotEncoder(handle_unknown='ignore'))]),\n",
       "                                                  ['housing', 'month',\n",
       "                                                   'poutcome', 'contact'])])),\n",
       "                ('clf_rf', RandomForestClassifier(criterion='entropy'))])"
      ]
     },
     "execution_count": 38,
     "metadata": {},
     "output_type": "execute_result"
    }
   ],
   "source": [
    "# Load the model from a pickle file\n",
    "saved_tree_clf = joblib.load(\"clf-best.pickle\")\n",
    "saved_tree_clf"
   ]
  },
  {
   "cell_type": "code",
   "execution_count": 39,
   "metadata": {},
   "outputs": [
    {
     "data": {
      "text/plain": [
       "array([1], dtype=int64)"
      ]
     },
     "execution_count": 39,
     "metadata": {},
     "output_type": "execute_result"
    }
   ],
   "source": [
    "banker1 = pd.DataFrame(\n",
    "    {   'age' : 59, \n",
    "        'job' : 'admin.',\n",
    "        'marital' : 'married',\n",
    "        'education' : 'secondary', \n",
    "        'default' : 'no', \n",
    "        'balance' : 600000, \n",
    "        'housing' : 'yes',\n",
    "        'loan' : 'yes',\n",
    "        'contact' : 'cellular',\n",
    "        'day' : 18, \n",
    "        'month' : 'aug', \n",
    "        'duration' : 73,\n",
    "        'campaign' : 7,\n",
    "        'pdays': -1, \n",
    "        'previous' : 0,\n",
    "        'poutcome' : ['unknown']       \n",
    "     \n",
    "     \n",
    "    })\n",
    "\n",
    "clf_best.predict(banker1)"
   ]
  },
  {
   "cell_type": "code",
   "execution_count": 40,
   "metadata": {},
   "outputs": [
    {
     "data": {
      "text/plain": [
       "array([2], dtype=int64)"
      ]
     },
     "execution_count": 40,
     "metadata": {},
     "output_type": "execute_result"
    }
   ],
   "source": [
    "clf_best.predict(banker)"
   ]
  },
  {
   "cell_type": "code",
   "execution_count": 41,
   "metadata": {},
   "outputs": [
    {
     "data": {
      "text/plain": [
       "2"
      ]
     },
     "execution_count": 41,
     "metadata": {},
     "output_type": "execute_result"
    }
   ],
   "source": [
    "# final test on the testing set\n",
    "# To predict on new data: simply calling the predict method \n",
    "# the full pipeline steps will be applied to the testing set followed by the prediction\n",
    "y_pred = clf_best.predict(X_test)\n",
    "\n",
    "# calculate accuracy, Note: y_test is the ground truth for the tesing set\n",
    "# we have similiar score for the testing set as the cross validation score - good\n",
    "\n",
    "#print(f'Accuracy Score : {accuracy_score(y_test, y_pred)}')\n",
    "y_pred[7]"
   ]
  },
  {
   "cell_type": "code",
   "execution_count": 42,
   "metadata": {
    "scrolled": false
   },
   "outputs": [
    {
     "data": {
      "text/plain": [
       "ColumnTransformer(transformers=[('num_pipeline',\n",
       "                                 Pipeline(steps=[('num_imputer',\n",
       "                                                  SimpleImputer()),\n",
       "                                                 ('scaler', StandardScaler())]),\n",
       "                                 ['age', 'balance', 'day', 'duration',\n",
       "                                  'pdays']),\n",
       "                                ('cat_pipeline',\n",
       "                                 Pipeline(steps=[('cat_imputer',\n",
       "                                                  SimpleImputer(strategy='most_frequent')),\n",
       "                                                 ('onehot',\n",
       "                                                  OneHotEncoder(handle_unknown='ignore'))]),\n",
       "                                 ['housing', 'month', 'poutcome', 'contact'])])"
      ]
     },
     "execution_count": 42,
     "metadata": {},
     "output_type": "execute_result"
    }
   ],
   "source": [
    "clf_best.named_steps['preprocessor']"
   ]
  },
  {
   "cell_type": "code",
   "execution_count": null,
   "metadata": {},
   "outputs": [],
   "source": []
  },
  {
   "cell_type": "code",
   "execution_count": null,
   "metadata": {},
   "outputs": [],
   "source": []
  }
 ],
 "metadata": {
  "kernelspec": {
   "display_name": "Python 3",
   "language": "python",
   "name": "python3"
  },
  "language_info": {
   "codemirror_mode": {
    "name": "ipython",
    "version": 3
   },
   "file_extension": ".py",
   "mimetype": "text/x-python",
   "name": "python",
   "nbconvert_exporter": "python",
   "pygments_lexer": "ipython3",
   "version": "3.7.7"
  }
 },
 "nbformat": 4,
 "nbformat_minor": 4
}
